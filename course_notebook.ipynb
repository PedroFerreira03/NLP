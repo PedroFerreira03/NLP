{
 "cells": [
  {
   "cell_type": "markdown",
   "id": "070987cd",
   "metadata": {},
   "source": [
    "## Information/Vocabulary\n",
    "\n",
    "``Bag of Words`` - Doesn't take into consideration the order of the words in the sentence, while ``Vector models`` and ``ML`` do.\n",
    "\n",
    "``Scipy`` - Use instead of `numpy` when matrices are sparse.\n",
    "\n",
    "``Tokens`` - Items used to represent a sentence: words, subwords, characters.\n",
    "\n",
    "``Embeddings`` - Vector Representation of Tokens.\n",
    "\n",
    "``Stemming`` - Chops off the end of the word (may not return a real word).\n",
    "\n",
    "``Lemmatization`` - Returns the root of the word (**lemma**).\n",
    "\n",
    "``TF - IDF(t, d)`` = `tf(t, d)` x `idf(t)`, where `t` is the term (token) and `d` is document. `tf(t, d)` is the count of term `t` on document `d` (or proportion if one normalizes it), while `idf(t)` = `log(N/N(t))`, where `N` is the number of documents (rows) and `N(t)` is how many of those documents contain term `t`.\n",
    "\n",
    "If we are ranking scores based on a metric of vectors, it is a good idea to normalize the vectors so that `Euclidian Distance` and `Cosine Distance` give equivalent outputs."
   ]
  },
  {
   "cell_type": "markdown",
   "id": "98bda7a5",
   "metadata": {},
   "source": [
    "## Code tips"
   ]
  },
  {
   "cell_type": "markdown",
   "id": "ac17d79c",
   "metadata": {},
   "source": [
    "``CountVectorizer`` is a package from ``scikit-learn`` for count embeddings (used mainly for documents):\n",
    "\n",
    "\n",
    " - ``CountVectorizer(stop_words=\"english\"/list_predefined)`` - Remove **stop words** in english or from a predefined list. The default is None.\n",
    "\n",
    " - ``CountVectorizer(analyzer=\"word\"/\"char\")`` - Defines the **tokenization** level. Either words or characters.\n",
    "\n",
    "``nltk`` is a library for **NLP**:\n",
    "- ``nltk.download('stopwords')`` to download the stopwords module.\n",
    "- ``stopwords.words(language)`` to get the stopwords of the specific language. See all languages available in ``~/nltk_data/corpora/stopwords/``\n",
    "- ``PorterStemmer()`` is used to get the Stem of a word.\n",
    "- ``nltk.download(\"wordnet\")`` to download the ``WordNetLemmatizer`` module, which is used to get the **lemma** of a word.\n"
   ]
  },
  {
   "cell_type": "markdown",
   "id": "64866b22",
   "metadata": {},
   "source": [
    "# Code"
   ]
  },
  {
   "cell_type": "markdown",
   "id": "8cc74fcc",
   "metadata": {},
   "source": [
    "## Stemming and Lemmatization"
   ]
  },
  {
   "cell_type": "code",
   "execution_count": 2,
   "id": "69bacca9",
   "metadata": {},
   "outputs": [],
   "source": [
    "import nltk"
   ]
  },
  {
   "cell_type": "code",
   "execution_count": 3,
   "id": "ab210d3b",
   "metadata": {},
   "outputs": [],
   "source": [
    "from nltk.stem import PorterStemmer\n",
    "from nltk.stem import WordNetLemmatizer\n",
    "from nltk.corpus import wordnet\n",
    "\n",
    "porter = PorterStemmer()\n",
    "lemmatizer = WordNetLemmatizer()"
   ]
  },
  {
   "cell_type": "code",
   "execution_count": 4,
   "id": "fcc6d804",
   "metadata": {},
   "outputs": [
    {
     "name": "stdout",
     "output_type": "stream",
     "text": [
      "walk\n",
      "walk\n",
      "walk\n"
     ]
    }
   ],
   "source": [
    "print(porter.stem(\"walking\"))\n",
    "print(porter.stem(\"walked\"))\n",
    "print(porter.stem(\"walks\"))"
   ]
  },
  {
   "cell_type": "code",
   "execution_count": 5,
   "id": "4fbc42cf",
   "metadata": {},
   "outputs": [
    {
     "name": "stdout",
     "output_type": "stream",
     "text": [
      "ran\n",
      "run\n",
      "run\n"
     ]
    }
   ],
   "source": [
    "print(porter.stem(\"ran\"))\n",
    "print(porter.stem(\"run\"))\n",
    "print(porter.stem(\"running\"))"
   ]
  },
  {
   "cell_type": "code",
   "execution_count": 6,
   "id": "eebe0b7d",
   "metadata": {},
   "outputs": [
    {
     "name": "stdout",
     "output_type": "stream",
     "text": [
      "lemmat\n",
      "is\n",
      "more\n",
      "sophist\n",
      "than\n",
      "stem\n"
     ]
    }
   ],
   "source": [
    "sentence = \"Lemmatization is more sophisticated than stemming\"\n",
    "all_words = sentence.split()\n",
    "\n",
    "for token in all_words:\n",
    "    print(porter.stem(token))"
   ]
  },
  {
   "cell_type": "code",
   "execution_count": 7,
   "id": "518ca384",
   "metadata": {},
   "outputs": [
    {
     "name": "stdout",
     "output_type": "stream",
     "text": [
      "walking\n",
      "walk\n",
      "\n",
      "going\n",
      "go\n"
     ]
    }
   ],
   "source": [
    "print(lemmatizer.lemmatize(\"walking\"))\n",
    "print(lemmatizer.lemmatize(\"walking\", pos=wordnet.VERB))\n",
    "print()\n",
    "print(lemmatizer.lemmatize(\"going\"))\n",
    "print(lemmatizer.lemmatize(\"going\", pos=wordnet.VERB))"
   ]
  },
  {
   "cell_type": "code",
   "execution_count": 8,
   "id": "e579f459",
   "metadata": {},
   "outputs": [],
   "source": [
    "# Convert parts of speech tags to wordnet tags\n",
    "def get_wordnet_pos(treebank_tag):\n",
    "    match treebank_tag[0]:\n",
    "        case 'J':\n",
    "            return wordnet.ADJ\n",
    "        case 'V':\n",
    "            return wordnet.VERB\n",
    "        case 'N':\n",
    "            return wordnet.NOUN\n",
    "        case 'R':\n",
    "            return wordnet.ADV\n",
    "        case _:\n",
    "            return wordnet.NOUN"
   ]
  },
  {
   "cell_type": "code",
   "execution_count": 9,
   "id": "7a1f1531",
   "metadata": {},
   "outputs": [
    {
     "data": {
      "text/plain": [
       "[('Donald', 'NNP'),\n",
       " ('Trump', 'NNP'),\n",
       " ('has', 'VBZ'),\n",
       " ('a', 'DT'),\n",
       " ('devoted', 'VBN'),\n",
       " ('following', 'NN')]"
      ]
     },
     "execution_count": 9,
     "metadata": {},
     "output_type": "execute_result"
    }
   ],
   "source": [
    "sentence = \"Donald Trump has a devoted following\"\n",
    "list_words = sentence.split()\n",
    "\n",
    "# Get the POS tags\n",
    "words_and_tags = nltk.pos_tag(list_words)\n",
    "words_and_tags"
   ]
  },
  {
   "cell_type": "code",
   "execution_count": 10,
   "id": "6b72adb5",
   "metadata": {},
   "outputs": [
    {
     "name": "stdout",
     "output_type": "stream",
     "text": [
      "Donald\n",
      "Trump\n",
      "have\n",
      "a\n",
      "devote\n",
      "following\n"
     ]
    }
   ],
   "source": [
    "for word, tag in words_and_tags:\n",
    "    lemma = lemmatizer.lemmatize(word, pos=get_wordnet_pos(tag))\n",
    "    print(lemma)"
   ]
  },
  {
   "cell_type": "markdown",
   "id": "f6c7cc5e",
   "metadata": {},
   "source": [
    "## Count Vectorizer"
   ]
  },
  {
   "cell_type": "code",
   "execution_count": 11,
   "id": "d57e7fe1",
   "metadata": {},
   "outputs": [],
   "source": [
    "import numpy as np\n",
    "import pandas as pd \n",
    "from sklearn.feature_extraction.text import CountVectorizer\n",
    "from sklearn.naive_bayes import MultinomialNB\n",
    "from sklearn.model_selection import train_test_split\n",
    "\n",
    "import nltk\n",
    "from nltk import word_tokenize\n",
    "from nltk.stem import WordNetLemmatizer, PorterStemmer\n",
    "from nltk.corpus import wordnet"
   ]
  },
  {
   "cell_type": "code",
   "execution_count": 12,
   "id": "543899e5",
   "metadata": {},
   "outputs": [],
   "source": [
    "#for download in [\"wordnet\", \"punkt\", \"averaged_perceptron_tagger\"]:\n",
    "    #nltk.download(download)"
   ]
  },
  {
   "cell_type": "code",
   "execution_count": 13,
   "id": "f2f5db40",
   "metadata": {},
   "outputs": [
    {
     "data": {
      "text/html": [
       "<div>\n",
       "<style scoped>\n",
       "    .dataframe tbody tr th:only-of-type {\n",
       "        vertical-align: middle;\n",
       "    }\n",
       "\n",
       "    .dataframe tbody tr th {\n",
       "        vertical-align: top;\n",
       "    }\n",
       "\n",
       "    .dataframe thead th {\n",
       "        text-align: right;\n",
       "    }\n",
       "</style>\n",
       "<table border=\"1\" class=\"dataframe\">\n",
       "  <thead>\n",
       "    <tr style=\"text-align: right;\">\n",
       "      <th></th>\n",
       "      <th>text</th>\n",
       "      <th>labels</th>\n",
       "    </tr>\n",
       "  </thead>\n",
       "  <tbody>\n",
       "    <tr>\n",
       "      <th>0</th>\n",
       "      <td>Ad sales boost Time Warner profit\\n\\nQuarterly...</td>\n",
       "      <td>business</td>\n",
       "    </tr>\n",
       "    <tr>\n",
       "      <th>1</th>\n",
       "      <td>Dollar gains on Greenspan speech\\n\\nThe dollar...</td>\n",
       "      <td>business</td>\n",
       "    </tr>\n",
       "    <tr>\n",
       "      <th>2</th>\n",
       "      <td>Yukos unit buyer faces loan claim\\n\\nThe owner...</td>\n",
       "      <td>business</td>\n",
       "    </tr>\n",
       "    <tr>\n",
       "      <th>3</th>\n",
       "      <td>High fuel prices hit BA's profits\\n\\nBritish A...</td>\n",
       "      <td>business</td>\n",
       "    </tr>\n",
       "    <tr>\n",
       "      <th>4</th>\n",
       "      <td>Pernod takeover talk lifts Domecq\\n\\nShares in...</td>\n",
       "      <td>business</td>\n",
       "    </tr>\n",
       "  </tbody>\n",
       "</table>\n",
       "</div>"
      ],
      "text/plain": [
       "                                                text    labels\n",
       "0  Ad sales boost Time Warner profit\\n\\nQuarterly...  business\n",
       "1  Dollar gains on Greenspan speech\\n\\nThe dollar...  business\n",
       "2  Yukos unit buyer faces loan claim\\n\\nThe owner...  business\n",
       "3  High fuel prices hit BA's profits\\n\\nBritish A...  business\n",
       "4  Pernod takeover talk lifts Domecq\\n\\nShares in...  business"
      ]
     },
     "execution_count": 13,
     "metadata": {},
     "output_type": "execute_result"
    }
   ],
   "source": [
    "path_to_csv = \"data/bbc_text_cls.csv\"\n",
    "df = pd.read_csv(path_to_csv)\n",
    "df.head()"
   ]
  },
  {
   "cell_type": "code",
   "execution_count": 14,
   "id": "44cad15d",
   "metadata": {},
   "outputs": [],
   "source": [
    "inputs = df['text']\n",
    "labels = df['labels']"
   ]
  },
  {
   "cell_type": "code",
   "execution_count": 15,
   "id": "8a1b194f",
   "metadata": {},
   "outputs": [
    {
     "data": {
      "image/png": "[encoded data removed]",
      "text/plain": [
       "<Figure size 1000x500 with 1 Axes>"
      ]
     },
     "metadata": {},
     "output_type": "display_data"
    }
   ],
   "source": [
    "labels.hist(figsize=(10, 5));"
   ]
  },
  {
   "cell_type": "code",
   "execution_count": 16,
   "id": "95e6559d",
   "metadata": {},
   "outputs": [],
   "source": [
    "# Define lemmatization tokenizer\n",
    "class LemmaTokenizer:\n",
    "    def __init__(self):\n",
    "        self.wnl = WordNetLemmatizer()\n",
    "    \n",
    "    def __call__(self, doc):\n",
    "        tokens = word_tokenize(doc)\n",
    "        words_and_tags = nltk.pos_tag(tokens)\n",
    "        return [self.wnl.lemmatize(word, pos=get_wordnet_pos(tag)) for word, tag in words_and_tags]\n",
    "    \n",
    "lemma_tokenizer = LemmaTokenizer()"
   ]
  },
  {
   "cell_type": "code",
   "execution_count": 17,
   "id": "3c457328",
   "metadata": {},
   "outputs": [],
   "source": [
    "# Define stem tokenizer\n",
    "class StemTokenizer:\n",
    "    def __init__(self):\n",
    "        self.porter = PorterStemmer()\n",
    "    \n",
    "    def __call__(self, doc):\n",
    "        tokens = word_tokenize(doc)\n",
    "        return [self.porter.stem(word) for word in tokens]\n",
    "    \n",
    "stem_tokenizer = StemTokenizer()"
   ]
  },
  {
   "cell_type": "code",
   "execution_count": 18,
   "id": "26d7e28c",
   "metadata": {},
   "outputs": [],
   "source": [
    "# Initialize Count\n",
    "vectorizer = CountVectorizer()\n",
    "vectorizer_stop_words = CountVectorizer(stop_words='english')\n",
    "vectorizer_lemmatization = CountVectorizer(token_pattern=None, tokenizer=lemma_tokenizer)\n",
    "vectorizer_stem = CountVectorizer(token_pattern=None, tokenizer=stem_tokenizer)"
   ]
  },
  {
   "cell_type": "code",
   "execution_count": 19,
   "id": "245d182f",
   "metadata": {},
   "outputs": [],
   "source": [
    "def process(inputs, labels, vectorizer):\n",
    "    # Get the data\n",
    "    X_train, X_test, y_train, y_test = train_test_split(inputs, labels, random_state=123)\n",
    "    Xtrain = vectorizer.fit_transform(X_train) # It is now fitted on trainingg\n",
    "    Xtest = vectorizer.transform(X_test)\n",
    "    print(f\"Number of rows: {Xtrain.shape[0]}\")\n",
    "    print(f\"Number of words: {Xtrain.shape[1]}\")\n",
    "    print(f\"Number of elements: {np.prod(Xtrain.shape)}\")\n",
    "\n",
    "    # Train model and check performance\n",
    "    model = MultinomialNB()\n",
    "    model.fit(Xtrain, y_train)\n",
    "    print(f\"Train score: {(model.score(Xtrain, y_train)*100):.2f}%\")\n",
    "    print(f\"Test score:  {(model.score(Xtest, y_test)*100):.2f}%\")\n",
    "    \n",
    "    return "
   ]
  },
  {
   "cell_type": "code",
   "execution_count": 20,
   "id": "e8c6bbec",
   "metadata": {},
   "outputs": [
    {
     "name": "stdout",
     "output_type": "stream",
     "text": [
      "Normal Vectorizer:\n",
      "\n",
      "Number of rows: 1668\n",
      "Number of words: 26287\n",
      "Number of elements: 43846716\n",
      "Train score: 99.22%\n",
      "Test score:  97.13%\n",
      "\n",
      "Removing Stop words\n",
      "\n",
      "Number of rows: 1668\n",
      "Number of words: 25995\n",
      "Number of elements: 43359660\n",
      "Train score: 99.28%\n",
      "Test score:  97.67%\n",
      "\n",
      "Performing Lemmatization\n",
      "\n",
      "Number of rows: 1668\n",
      "Number of words: 25894\n",
      "Number of elements: 43191192\n",
      "Train score: 99.22%\n",
      "Test score:  96.77%\n",
      "\n",
      "Performing Stemming\n",
      "\n",
      "Number of rows: 1668\n",
      "Number of words: 22714\n",
      "Number of elements: 37886952\n",
      "Train score: 98.92%\n",
      "Test score:  96.95%\n"
     ]
    }
   ],
   "source": [
    "# Without removing stop words\n",
    "print(\"Normal Vectorizer:\\n\")\n",
    "process(inputs, labels, vectorizer)\n",
    "\n",
    "# Removing stop words\n",
    "print(\"\\nRemoving Stop words\\n\")\n",
    "process(inputs, labels, vectorizer_stop_words)\n",
    "\n",
    "# Performing Lemmatization\n",
    "print(\"\\nPerforming Lemmatization\\n\")\n",
    "process(inputs, labels, vectorizer_lemmatization)\n",
    "\n",
    "# Performing Stemming\n",
    "print(\"\\nPerforming Stemming\\n\")\n",
    "process(inputs, labels, vectorizer_stem)"
   ]
  },
  {
   "cell_type": "markdown",
   "id": "c87a532e",
   "metadata": {},
   "source": [
    "## TF-IDF (Term frequency - Inverse Document Frequency)"
   ]
  },
  {
   "cell_type": "code",
   "execution_count": 100,
   "id": "3b940a9d",
   "metadata": {},
   "outputs": [
    {
     "data": {
      "text/plain": [
       "Index(['budget', 'genres', 'homepage', 'id', 'keywords', 'original_language',\n",
       "       'original_title', 'overview', 'popularity', 'production_companies',\n",
       "       'production_countries', 'release_date', 'revenue', 'runtime',\n",
       "       'spoken_languages', 'status', 'tagline', 'title', 'vote_average',\n",
       "       'vote_count'],\n",
       "      dtype='object')"
      ]
     },
     "execution_count": 100,
     "metadata": {},
     "output_type": "execute_result"
    }
   ],
   "source": [
    "import ast\n",
    "path_to_data = \"data/tmdb_5000_movies.csv\"\n",
    "data = pd.read_csv(path_to_data)\n",
    "data['keywords'] = data['keywords'].apply(ast.literal_eval)\n",
    "data.columns"
   ]
  },
  {
   "cell_type": "code",
   "execution_count": 101,
   "id": "90a674b5",
   "metadata": {},
   "outputs": [],
   "source": [
    "def process_data(data):\n",
    "    lista = []\n",
    "    n = data.shape[0]\n",
    "    keywords = data['keywords']\n",
    "    for i in range(n):\n",
    "        lista.append(', '.join([keywords[i][j]['name'] for j in range(len(keywords[i]))]))\n",
    "\n",
    "    return lista\n",
    "    \n",
    "new_data = process_data(data)"
   ]
  },
  {
   "cell_type": "code",
   "execution_count": 102,
   "id": "797d0bc4",
   "metadata": {},
   "outputs": [
    {
     "data": {
      "text/plain": [
       "0                                         Avatar\n",
       "1       Pirates of the Caribbean: At World's End\n",
       "2                                        Spectre\n",
       "3                          The Dark Knight Rises\n",
       "4                                    John Carter\n",
       "                          ...                   \n",
       "4798                                 El Mariachi\n",
       "4799                                   Newlyweds\n",
       "4800                   Signed, Sealed, Delivered\n",
       "4801                            Shanghai Calling\n",
       "4802                           My Date with Drew\n",
       "Name: name, Length: 4803, dtype: object"
      ]
     },
     "execution_count": 102,
     "metadata": {},
     "output_type": "execute_result"
    }
   ],
   "source": [
    "X = pd.DataFrame(data = {'name':data['original_title'], 'keywords':new_data})\n",
    "X['name']"
   ]
  },
  {
   "cell_type": "code",
   "execution_count": 105,
   "id": "9fb516eb",
   "metadata": {},
   "outputs": [
    {
     "name": "stdout",
     "output_type": "stream",
     "text": [
      "Recommendations for the movie PIRATES OF THE CARIBBEAN: AT WORLD'S END:\n",
      "\n",
      "1 th Movie: \n",
      "Pirates of the Caribbean: Dead Man's Chest\n",
      "\n",
      "2 th Movie: \n",
      "Pirates of the Caribbean: The Curse of the Black Pearl\n",
      "\n",
      "3 th Movie: \n",
      "Cutthroat Island\n",
      "\n",
      "4 th Movie: \n",
      "Anna and the King\n",
      "\n",
      "5 th Movie: \n",
      "Two Lovers\n",
      "\n"
     ]
    }
   ],
   "source": [
    "from sklearn.feature_extraction.text import TfidfVectorizer\n",
    "from sklearn.preprocessing import normalize\n",
    "\n",
    "class MovieRecomendation():\n",
    "    def __init__(self):\n",
    "        self.vectorizer = TfidfVectorizer()\n",
    "        self.names_to_idx = {}\n",
    "        self.names = []\n",
    "\n",
    "    def fit_transform(self, names, keywords):\n",
    "        self.names_to_idx = {name: i for i, name in enumerate(names)}\n",
    "        self.names = names\n",
    "        new_data = self.vectorizer.fit_transform(keywords)\n",
    "        return new_data\n",
    "\n",
    "    def recommend(self, target, data, top_k=5):\n",
    "        try:\n",
    "            idx = self.names_to_idx[target]\n",
    "        except KeyError:\n",
    "            raise ValueError(f\"Index for '{target}' not found in names database\")\n",
    "\n",
    "        movie = data[idx, :]\n",
    "        normalized_data = normalize(data, axis=1)\n",
    "        scores = np.dot(normalized_data, movie.T).toarray().ravel()\n",
    "        scores[idx] = -1 # Mask the movie itself, doesn't make sense to recommend it\n",
    "        sorted_idx = np.argsort(scores)\n",
    "\n",
    "        print(f\"Recommendations for the movie {target.upper()}:\\n\")\n",
    "        for i in range(top_k):\n",
    "            pos = f\"{i+1} th Movie: \\n\"\n",
    "            print(pos + names[sorted_idx[-i-1]])\n",
    "            print()\n",
    "        \n",
    "        return \n",
    "\n",
    "names = X['name']\n",
    "keywords = X['keywords']    \n",
    "movie_to_recommend = \"Pirates of the Caribbean: At World's End\"\n",
    "\n",
    "MovieRec = MovieRecomendation()\n",
    "vectors = MovieRec.fit_transform(names, keywords)\n",
    "MovieRec.recommend(movie_to_recommend, vectors)"
   ]
  },
  {
   "cell_type": "code",
   "execution_count": null,
   "id": "95ef5cbc",
   "metadata": {},
   "outputs": [],
   "source": []
  }
 ],
 "metadata": {
  "kernelspec": {
   "display_name": "my_env",
   "language": "python",
   "name": "python3"
  },
  "language_info": {
   "codemirror_mode": {
    "name": "ipython",
    "version": 3
   },
   "file_extension": ".py",
   "mimetype": "text/x-python",
   "name": "python",
   "nbconvert_exporter": "python",
   "pygments_lexer": "ipython3",
   "version": "3.13.7"
  }
 },
 "nbformat": 4,
 "nbformat_minor": 5
}
