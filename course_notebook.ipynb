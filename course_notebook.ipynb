{
 "cells": [
  {
   "cell_type": "markdown",
   "id": "070987cd",
   "metadata": {},
   "source": [
    "## Information/Vocabulary\n",
    "\n",
    "``Bag of Words`` - Doesn't take into consideration the order of the words in the sentence, while ``Vector models`` and ``ML`` do.\n",
    "\n",
    "``Scipy`` - Use instead of `numpy` when matrices are sparse.\n",
    "\n",
    "``Tokens`` - Items used to represent a sentence: words, subwords, characters.\n",
    "\n",
    "``Embeddings`` - Vector Representation of Tokens.\n",
    "\n",
    "``Stemming`` - Chops off the end of the word (may not return a real word).\n",
    "\n",
    "``Lemmatization`` - Returns the root of the word (**lemma**).\n",
    "\n",
    "``TF - IDF(t, d)`` = `tf(t, d)` x `idf(t)`, where `t` is the term (token) and `d` is document. `tf(t, d)` is the count of term `t` on document `d` (or proportion if one normalizes it), while `idf(t)` = `log(N/N(t))`, where `N` is the number of documents (rows) and `N(t)` is how many of those documents contain term `t`.\n",
    "\n",
    "If we are ranking scores based on a metric of vectors, it is a good idea to normalize the vectors so that **Euclidian Distance** and **Cosine Distance** give equivalent outputs.\n",
    "\n",
    "`lil_matrix` and `csr_matrix` are two ways of storing non zero values for sparse matrices. The former is better for incremental construction (accessing random indeces) - although it needs more space - while the latter is better for bulk operations like normalization or matrix product.\n",
    "\n",
    "`Word2Vec` is a **Neural Embedding**. It has two architectures:\n",
    "- The `Skip Gram` is a Neural Network whose input is the one-hot representation of a word (which then gets mapped to a vector - **The embedding**) and its goal is to  predict words in the context window -> (x=central_word, y=context_word) for each context_word.\n",
    "- The `Contiguous Bag of Words` (CBOW) is also a Neural network whose input is the context words and the objective is to predict the central word. In this case, the input vector is the mean of all the embeddings of the context_words -> (x=mean(context_words), y=central_word).\n",
    "\n",
    "`GloVe` (Global Vectors for Word Representation) tries to obtain vector representations whose inner product (degree of similarity) is close to `log P(j | i)`, where `P(j | i)` (derived by the co-occurrence matrix) is the probability of word `j` appearing in the context of word `i`. In reality, the probability just becomes the co-occurence since the other term is absorved by the bias term.\n",
    "\n",
    "Two types of Models in **NLP**:\n",
    "- Discriminant Models: Directly learn `P(y | x)` (Neural Networks, Logistic Regression, ...)\n",
    "- Generative Models: Learn `P(x | y)` and from there compute `P(y | x)` using Bayes Rule (Markov Models, ...)"
   ]
  },
  {
   "cell_type": "markdown",
   "id": "98bda7a5",
   "metadata": {},
   "source": [
    "## Code tips"
   ]
  },
  {
   "cell_type": "markdown",
   "id": "ac17d79c",
   "metadata": {},
   "source": [
    "``CountVectorizer`` is a package from ``scikit-learn`` for count embeddings (used mainly for documents):\n",
    "\n",
    "\n",
    " - ``CountVectorizer(stop_words=\"english\"/list_predefined)`` - Remove **stop words** in english or from a predefined list. The default is None.\n",
    "\n",
    " - ``CountVectorizer(analyzer=\"word\"/\"char\")`` - Defines the **tokenization** level. Either words or characters.\n",
    "\n",
    "``nltk`` is a library for **NLP**:\n",
    "- ``nltk.download('stopwords')`` to download the stopwords module.\n",
    "- ``stopwords.words(language)`` to get the stopwords of the specific language. See all languages available in ``~/nltk_data/corpora/stopwords/``\n",
    "- ``PorterStemmer()`` is used to get the Stem of a word.\n",
    "- ``nltk.download(\"wordnet\")`` to download the ``WordNetLemmatizer`` module, which is used to get the **lemma** of a word.\n",
    "\n",
    "``Gensim`` is the library used for **Vector models**, namely `Word2vec` and `GloVe`. After having downloaded the table with the embeddings and unzipped it, we can do `word_vectors.most_similar(positive=[w1,...,wn], negative=[s1,...,sn])` to find the most similar word vector to the sum of the embeddings of the words in *positive* with the sum of the negative of the embeddings of the words in *negative*.\n",
    "\n",
    "Using **NLTK**'s `TreeBankWordDeTokenizer` is the perfect way to build up the string after having tokenized it. It is specially useful when the tokenization takes into account punctuation, since joining words is different from joining word + punctuation.\n",
    "\n",
    "If we are interested in computing the **ROC** and **AUC**, we need model probabilities. For that, we can u se the function ``model.predict_proba(X)`` from ``Scikit Learn``."
   ]
  },
  {
   "cell_type": "markdown",
   "id": "64866b22",
   "metadata": {},
   "source": [
    "# Text Processing and Vector Models"
   ]
  },
  {
   "cell_type": "markdown",
   "id": "8cc74fcc",
   "metadata": {},
   "source": [
    "## Stemming and Lemmatization"
   ]
  },
  {
   "cell_type": "code",
   "execution_count": 1,
   "id": "69bacca9",
   "metadata": {},
   "outputs": [],
   "source": [
    "import nltk"
   ]
  },
  {
   "cell_type": "code",
   "execution_count": null,
   "id": "ab210d3b",
   "metadata": {},
   "outputs": [],
   "source": [
    "from nltk.stem import PorterStemmer\n",
    "from nltk.stem import WordNetLemmatizer\n",
    "from nltk.corpus import wordnet\n",
    "\n",
    "porter = PorterStemmer() \n",
    "lemmatizer = WordNetLemmatizer()"
   ]
  },
  {
   "cell_type": "code",
   "execution_count": 3,
   "id": "fcc6d804",
   "metadata": {},
   "outputs": [
    {
     "name": "stdout",
     "output_type": "stream",
     "text": [
      "walk\n",
      "walk\n",
      "walk\n"
     ]
    }
   ],
   "source": [
    "print(porter.stem(\"walking\"))\n",
    "print(porter.stem(\"walked\"))\n",
    "print(porter.stem(\"walks\"))"
   ]
  },
  {
   "cell_type": "code",
   "execution_count": 4,
   "id": "4fbc42cf",
   "metadata": {},
   "outputs": [
    {
     "name": "stdout",
     "output_type": "stream",
     "text": [
      "ran\n",
      "run\n",
      "run\n"
     ]
    }
   ],
   "source": [
    "print(porter.stem(\"ran\"))\n",
    "print(porter.stem(\"run\"))\n",
    "print(porter.stem(\"running\"))"
   ]
  },
  {
   "cell_type": "code",
   "execution_count": 5,
   "id": "eebe0b7d",
   "metadata": {},
   "outputs": [
    {
     "name": "stdout",
     "output_type": "stream",
     "text": [
      "lemmat\n",
      "is\n",
      "more\n",
      "sophist\n",
      "than\n",
      "stem\n"
     ]
    }
   ],
   "source": [
    "sentence = \"Lemmatization is more sophisticated than stemming\"\n",
    "all_words = sentence.split()\n",
    "\n",
    "for token in all_words:\n",
    "    print(porter.stem(token))"
   ]
  },
  {
   "cell_type": "code",
   "execution_count": 6,
   "id": "518ca384",
   "metadata": {},
   "outputs": [
    {
     "name": "stdout",
     "output_type": "stream",
     "text": [
      "walking\n",
      "walk\n",
      "\n",
      "going\n",
      "go\n"
     ]
    }
   ],
   "source": [
    "print(lemmatizer.lemmatize(\"walking\"))\n",
    "print(lemmatizer.lemmatize(\"walking\", pos=wordnet.VERB))\n",
    "print()\n",
    "print(lemmatizer.lemmatize(\"going\"))\n",
    "print(lemmatizer.lemmatize(\"going\", pos=wordnet.VERB))"
   ]
  },
  {
   "cell_type": "code",
   "execution_count": 7,
   "id": "e579f459",
   "metadata": {},
   "outputs": [],
   "source": [
    "# Convert parts of speech tags to wordnet tags\n",
    "def get_wordnet_pos(treebank_tag):\n",
    "    match treebank_tag[0]:\n",
    "        case 'J':\n",
    "            return wordnet.ADJ\n",
    "        case 'V':\n",
    "            return wordnet.VERB\n",
    "        case 'N':\n",
    "            return wordnet.NOUN\n",
    "        case 'R':\n",
    "            return wordnet.ADV\n",
    "        case _:\n",
    "            return wordnet.NOUN"
   ]
  },
  {
   "cell_type": "code",
   "execution_count": 8,
   "id": "7a1f1531",
   "metadata": {},
   "outputs": [
    {
     "data": {
      "text/plain": [
       "[('Donald', 'NNP'),\n",
       " ('Trump', 'NNP'),\n",
       " ('has', 'VBZ'),\n",
       " ('a', 'DT'),\n",
       " ('devoted', 'VBN'),\n",
       " ('following', 'NN')]"
      ]
     },
     "execution_count": 8,
     "metadata": {},
     "output_type": "execute_result"
    }
   ],
   "source": [
    "sentence = \"Donald Trump has a devoted following\"\n",
    "list_words = sentence.split()\n",
    "\n",
    "# Get the POS tags\n",
    "words_and_tags = nltk.pos_tag(list_words)\n",
    "words_and_tags"
   ]
  },
  {
   "cell_type": "code",
   "execution_count": 9,
   "id": "6b72adb5",
   "metadata": {},
   "outputs": [
    {
     "name": "stdout",
     "output_type": "stream",
     "text": [
      "Donald\n",
      "Trump\n",
      "have\n",
      "a\n",
      "devote\n",
      "following\n"
     ]
    }
   ],
   "source": [
    "for word, tag in words_and_tags:\n",
    "    lemma = lemmatizer.lemmatize(word, pos=get_wordnet_pos(tag))\n",
    "    print(lemma)"
   ]
  },
  {
   "cell_type": "markdown",
   "id": "f6c7cc5e",
   "metadata": {},
   "source": [
    "## Count Vectorizer"
   ]
  },
  {
   "cell_type": "code",
   "execution_count": 10,
   "id": "d57e7fe1",
   "metadata": {},
   "outputs": [],
   "source": [
    "import numpy as np\n",
    "import pandas as pd \n",
    "from sklearn.feature_extraction.text import CountVectorizer\n",
    "from sklearn.naive_bayes import MultinomialNB\n",
    "from sklearn.model_selection import train_test_split\n",
    "\n",
    "import nltk\n",
    "from nltk import word_tokenize\n",
    "from nltk.stem import WordNetLemmatizer, PorterStemmer\n",
    "from nltk.corpus import wordnet"
   ]
  },
  {
   "cell_type": "code",
   "execution_count": 11,
   "id": "543899e5",
   "metadata": {},
   "outputs": [],
   "source": [
    "#for download in [\"wordnet\", \"punkt\", \"averaged_perceptron_tagger\"]:\n",
    "    #nltk.download(download)"
   ]
  },
  {
   "cell_type": "code",
   "execution_count": 12,
   "id": "f2f5db40",
   "metadata": {},
   "outputs": [
    {
     "data": {
      "text/html": [
       "<div>\n",
       "<style scoped>\n",
       "    .dataframe tbody tr th:only-of-type {\n",
       "        vertical-align: middle;\n",
       "    }\n",
       "\n",
       "    .dataframe tbody tr th {\n",
       "        vertical-align: top;\n",
       "    }\n",
       "\n",
       "    .dataframe thead th {\n",
       "        text-align: right;\n",
       "    }\n",
       "</style>\n",
       "<table border=\"1\" class=\"dataframe\">\n",
       "  <thead>\n",
       "    <tr style=\"text-align: right;\">\n",
       "      <th></th>\n",
       "      <th>text</th>\n",
       "      <th>labels</th>\n",
       "    </tr>\n",
       "  </thead>\n",
       "  <tbody>\n",
       "    <tr>\n",
       "      <th>0</th>\n",
       "      <td>Ad sales boost Time Warner profit\\n\\nQuarterly...</td>\n",
       "      <td>business</td>\n",
       "    </tr>\n",
       "    <tr>\n",
       "      <th>1</th>\n",
       "      <td>Dollar gains on Greenspan speech\\n\\nThe dollar...</td>\n",
       "      <td>business</td>\n",
       "    </tr>\n",
       "    <tr>\n",
       "      <th>2</th>\n",
       "      <td>Yukos unit buyer faces loan claim\\n\\nThe owner...</td>\n",
       "      <td>business</td>\n",
       "    </tr>\n",
       "    <tr>\n",
       "      <th>3</th>\n",
       "      <td>High fuel prices hit BA's profits\\n\\nBritish A...</td>\n",
       "      <td>business</td>\n",
       "    </tr>\n",
       "    <tr>\n",
       "      <th>4</th>\n",
       "      <td>Pernod takeover talk lifts Domecq\\n\\nShares in...</td>\n",
       "      <td>business</td>\n",
       "    </tr>\n",
       "  </tbody>\n",
       "</table>\n",
       "</div>"
      ],
      "text/plain": [
       "                                                text    labels\n",
       "0  Ad sales boost Time Warner profit\\n\\nQuarterly...  business\n",
       "1  Dollar gains on Greenspan speech\\n\\nThe dollar...  business\n",
       "2  Yukos unit buyer faces loan claim\\n\\nThe owner...  business\n",
       "3  High fuel prices hit BA's profits\\n\\nBritish A...  business\n",
       "4  Pernod takeover talk lifts Domecq\\n\\nShares in...  business"
      ]
     },
     "execution_count": 12,
     "metadata": {},
     "output_type": "execute_result"
    }
   ],
   "source": [
    "path_to_csv = \"data/bbc_text_cls.csv\"\n",
    "df = pd.read_csv(path_to_csv)\n",
    "df.head()"
   ]
  },
  {
   "cell_type": "code",
   "execution_count": 13,
   "id": "44cad15d",
   "metadata": {},
   "outputs": [],
   "source": [
    "inputs = df['text']\n",
    "labels = df['labels']"
   ]
  },
  {
   "cell_type": "code",
   "execution_count": 14,
   "id": "8a1b194f",
   "metadata": {},
   "outputs": [
    {
     "data": {
      "image/png": "[encoded data removed]",
      "text/plain": [
       "<Figure size 1000x500 with 1 Axes>"
      ]
     },
     "metadata": {},
     "output_type": "display_data"
    }
   ],
   "source": [
    "labels.hist(figsize=(10, 5));"
   ]
  },
  {
   "cell_type": "code",
   "execution_count": 15,
   "id": "95e6559d",
   "metadata": {},
   "outputs": [],
   "source": [
    "# Define lemmatization tokenizer\n",
    "class LemmaTokenizer:\n",
    "    def __init__(self):\n",
    "        self.wnl = WordNetLemmatizer()\n",
    "    \n",
    "    def __call__(self, doc):\n",
    "        tokens = word_tokenize(doc)\n",
    "        words_and_tags = nltk.pos_tag(tokens)\n",
    "        return [self.wnl.lemmatize(word, pos=get_wordnet_pos(tag)) for word, tag in words_and_tags]\n",
    "    \n",
    "lemma_tokenizer = LemmaTokenizer()"
   ]
  },
  {
   "cell_type": "code",
   "execution_count": 16,
   "id": "3c457328",
   "metadata": {},
   "outputs": [],
   "source": [
    "# Define stem tokenizer\n",
    "class StemTokenizer:\n",
    "    def __init__(self):\n",
    "        self.porter = PorterStemmer()\n",
    "    \n",
    "    def __call__(self, doc):\n",
    "        tokens = word_tokenize(doc)\n",
    "        return [self.porter.stem(word) for word in tokens]\n",
    "    \n",
    "stem_tokenizer = StemTokenizer()"
   ]
  },
  {
   "cell_type": "code",
   "execution_count": 17,
   "id": "26d7e28c",
   "metadata": {},
   "outputs": [],
   "source": [
    "# Initialize Count\n",
    "vectorizer = CountVectorizer()\n",
    "vectorizer_stop_words = CountVectorizer(stop_words='english')\n",
    "vectorizer_lemmatization = CountVectorizer(token_pattern=None, tokenizer=lemma_tokenizer)\n",
    "vectorizer_stem = CountVectorizer(token_pattern=None, tokenizer=stem_tokenizer)"
   ]
  },
  {
   "cell_type": "code",
   "execution_count": 18,
   "id": "245d182f",
   "metadata": {},
   "outputs": [],
   "source": [
    "def process(inputs, labels, vectorizer):\n",
    "    # Get the data\n",
    "    X_train, X_test, y_train, y_test = train_test_split(inputs, labels, random_state=123)\n",
    "    Xtrain = vectorizer.fit_transform(X_train) # It is now fitted on trainingg\n",
    "    Xtest = vectorizer.transform(X_test)\n",
    "    print(f\"Number of rows: {Xtrain.shape[0]}\")\n",
    "    print(f\"Number of words: {Xtrain.shape[1]}\")\n",
    "    print(f\"Number of elements: {np.prod(Xtrain.shape)}\")\n",
    "\n",
    "    # Train model and check performance\n",
    "    model = MultinomialNB()\n",
    "    model.fit(Xtrain, y_train)\n",
    "    print(f\"Train score: {(model.score(Xtrain, y_train)*100):.2f}%\")\n",
    "    print(f\"Test score:  {(model.score(Xtest, y_test)*100):.2f}%\")\n",
    "    \n",
    "    return "
   ]
  },
  {
   "cell_type": "code",
   "execution_count": 19,
   "id": "e8c6bbec",
   "metadata": {},
   "outputs": [
    {
     "name": "stdout",
     "output_type": "stream",
     "text": [
      "Normal Vectorizer:\n",
      "\n",
      "Number of rows: 1668\n",
      "Number of words: 26287\n",
      "Number of elements: 43846716\n",
      "Train score: 99.22%\n",
      "Test score:  97.13%\n",
      "\n",
      "Removing Stop words\n",
      "\n",
      "Number of rows: 1668\n",
      "Number of words: 25995\n",
      "Number of elements: 43359660\n",
      "Train score: 99.28%\n",
      "Test score:  97.67%\n",
      "\n",
      "Performing Lemmatization\n",
      "\n",
      "Number of rows: 1668\n",
      "Number of words: 25894\n",
      "Number of elements: 43191192\n",
      "Train score: 99.22%\n",
      "Test score:  96.77%\n",
      "\n",
      "Performing Stemming\n",
      "\n",
      "Number of rows: 1668\n",
      "Number of words: 22714\n",
      "Number of elements: 37886952\n",
      "Train score: 98.92%\n",
      "Test score:  96.95%\n"
     ]
    }
   ],
   "source": [
    "# Without removing stop words\n",
    "print(\"Normal Vectorizer:\\n\")\n",
    "process(inputs, labels, vectorizer)\n",
    "\n",
    "# Removing stop words\n",
    "print(\"\\nRemoving Stop words\\n\")\n",
    "process(inputs, labels, vectorizer_stop_words)\n",
    "\n",
    "# Performing Lemmatization\n",
    "print(\"\\nPerforming Lemmatization\\n\")\n",
    "process(inputs, labels, vectorizer_lemmatization)\n",
    "\n",
    "# Performing Stemming\n",
    "print(\"\\nPerforming Stemming\\n\")\n",
    "process(inputs, labels, vectorizer_stem)"
   ]
  },
  {
   "cell_type": "markdown",
   "id": "c87a532e",
   "metadata": {},
   "source": [
    "## TF-IDF (Term frequency - Inverse Document Frequency)"
   ]
  },
  {
   "cell_type": "code",
   "execution_count": 20,
   "id": "3b940a9d",
   "metadata": {},
   "outputs": [
    {
     "data": {
      "text/plain": [
       "Index(['budget', 'genres', 'homepage', 'id', 'keywords', 'original_language',\n",
       "       'original_title', 'overview', 'popularity', 'production_companies',\n",
       "       'production_countries', 'release_date', 'revenue', 'runtime',\n",
       "       'spoken_languages', 'status', 'tagline', 'title', 'vote_average',\n",
       "       'vote_count'],\n",
       "      dtype='object')"
      ]
     },
     "execution_count": 20,
     "metadata": {},
     "output_type": "execute_result"
    }
   ],
   "source": [
    "import ast\n",
    "path_to_data = \"data/tmdb_5000_movies.csv\"\n",
    "data = pd.read_csv(path_to_data)\n",
    "data['keywords'] = data['keywords'].apply(ast.literal_eval)\n",
    "data['genres'] = data['genres'].apply(ast.literal_eval)\n",
    "data.columns"
   ]
  },
  {
   "cell_type": "code",
   "execution_count": 21,
   "id": "90a674b5",
   "metadata": {},
   "outputs": [],
   "source": [
    "def process_data(data):\n",
    "    lista = []\n",
    "    n = data.shape[0]\n",
    "    keywords = data['keywords']\n",
    "    genres = data['genres']\n",
    "    for i in range(n):\n",
    "        str1 = ', '.join([keywords[i][j]['name'].replace(\" \", \"\") for j in range(len(keywords[i]))]) # Get the genres to just one token\n",
    "        str2 = ', '.join([genres[i][j]['name'].replace(\" \", \"\") for j in range(len(genres[i]))])\n",
    "        lista.append(str1 + str2)\n",
    "\n",
    "    return lista\n",
    "    \n",
    "new_data = process_data(data)"
   ]
  },
  {
   "cell_type": "code",
   "execution_count": 22,
   "id": "797d0bc4",
   "metadata": {},
   "outputs": [
    {
     "data": {
      "text/plain": [
       "0                                         Avatar\n",
       "1       Pirates of the Caribbean: At World's End\n",
       "2                                        Spectre\n",
       "3                          The Dark Knight Rises\n",
       "4                                    John Carter\n",
       "                          ...                   \n",
       "4798                                 El Mariachi\n",
       "4799                                   Newlyweds\n",
       "4800                   Signed, Sealed, Delivered\n",
       "4801                            Shanghai Calling\n",
       "4802                           My Date with Drew\n",
       "Name: name, Length: 4803, dtype: object"
      ]
     },
     "execution_count": 22,
     "metadata": {},
     "output_type": "execute_result"
    }
   ],
   "source": [
    "X = pd.DataFrame(data = {'name':data['original_title'], 'keywords':new_data})\n",
    "X['name']"
   ]
  },
  {
   "cell_type": "code",
   "execution_count": 23,
   "id": "62710217",
   "metadata": {},
   "outputs": [
    {
     "data": {
      "text/plain": [
       "0       cultureclash, future, spacewar, spacecolony, s...\n",
       "1       ocean, drugabuse, exoticisland, eastindiatradi...\n",
       "2       spy, basedonnovel, secretagent, sequel, mi6, b...\n",
       "3       dccomics, crimefighter, terrorist, secretident...\n",
       "4       basedonnovel, mars, medallion, spacetravel, pr...\n",
       "                              ...                        \n",
       "4798    unitedstates–mexicobarrier, legs, arms, paperk...\n",
       "4799                                      Comedy, Romance\n",
       "4800    date, loveatfirstsight, narration, investigati...\n",
       "4801                                                     \n",
       "4802    obsession, camcorder, crush, dreamgirlDocumentary\n",
       "Name: keywords, Length: 4803, dtype: object"
      ]
     },
     "execution_count": 23,
     "metadata": {},
     "output_type": "execute_result"
    }
   ],
   "source": [
    "X['keywords']"
   ]
  },
  {
   "cell_type": "code",
   "execution_count": 24,
   "id": "9fb516eb",
   "metadata": {},
   "outputs": [],
   "source": [
    "from sklearn.feature_extraction.text import TfidfVectorizer\n",
    "from sklearn.preprocessing import normalize\n",
    "import matplotlib.pyplot as plt\n",
    "\n",
    "class MovieRecomendation():\n",
    "    def __init__(self):\n",
    "        self.vectorizer = TfidfVectorizer()\n",
    "        self.names_to_idx = {}\n",
    "        self.names = []\n",
    "        self.data = []\n",
    "\n",
    "    def fit_transform(self, names, keywords):\n",
    "        self.names_to_idx = {name: i for i, name in enumerate(names)}\n",
    "        self.names = names\n",
    "        self.data = self.vectorizer.fit_transform(keywords)\n",
    "        return\n",
    "\n",
    "    def recommend(self, target, top_k=5):\n",
    "        try:\n",
    "            idx = self.names_to_idx[target]\n",
    "        except KeyError:\n",
    "            raise ValueError(f\"Index for '{target}' not found in names database\")\n",
    "\n",
    "        data = self.data\n",
    "        movie = data[idx, :]\n",
    "        normalized_data = normalize(data, axis=1)\n",
    "        scores = np.dot(normalized_data, movie.T).toarray().ravel()\n",
    "        scores[idx] = 0 # Mask the movie itself, doesn't make sense to recommend it (0 is the minimum for cosine similarity using TF-IDF since we're on the first quadrant)\n",
    "        sorted_idx = np.argsort(scores)\n",
    "\n",
    "        plt.plot(scores[sorted_idx[::-1]])\n",
    "\n",
    "        print(f\"Recommendations for the movie {target.upper()}:\\n\")\n",
    "        for i in range(1, top_k+1):\n",
    "            match i:\n",
    "                case 1:\n",
    "                    pos_arg = \"st\"\n",
    "                case 2:\n",
    "                    pos_arg = \"nd\"\n",
    "                case 3:\n",
    "                    pos_arg = \"rd\"\n",
    "                case _:\n",
    "                    pos_arg = \"th\"\n",
    "\n",
    "            pos = f\"{i} {pos_arg} Movie: \\n\"\n",
    "            print(pos + names[sorted_idx[-i]])\n",
    "            print()\n",
    "        \n",
    "        return \n",
    "\n",
    "names = X['name']\n",
    "keywords = X['keywords']    \n",
    "MovieRec = MovieRecomendation()\n",
    "MovieRec.fit_transform(names, keywords)"
   ]
  },
  {
   "cell_type": "code",
   "execution_count": 25,
   "id": "e39595f4",
   "metadata": {},
   "outputs": [
    {
     "name": "stdout",
     "output_type": "stream",
     "text": [
      "Recommendations for the movie PIRATES OF THE CARIBBEAN: AT WORLD'S END:\n",
      "\n",
      "1 st Movie: \n",
      "Pirates of the Caribbean: Dead Man's Chest\n",
      "\n",
      "2 nd Movie: \n",
      "Pirates of the Caribbean: The Curse of the Black Pearl\n",
      "\n",
      "3 rd Movie: \n",
      "Pirates of the Caribbean: On Stranger Tides\n",
      "\n",
      "4 th Movie: \n",
      "La sirène du Mississipi\n",
      "\n",
      "5 th Movie: \n",
      "The Brothers Grimm\n",
      "\n"
     ]
    },
    {
     "data": {
      "image/png": "[encoded data removed]",
      "text/plain": [
       "<Figure size 640x480 with 1 Axes>"
      ]
     },
     "metadata": {},
     "output_type": "display_data"
    }
   ],
   "source": [
    "movie_to_recommend = \"Pirates of the Caribbean: At World's End\"\n",
    "MovieRec.recommend(movie_to_recommend)"
   ]
  },
  {
   "cell_type": "code",
   "execution_count": 26,
   "id": "32649f6e",
   "metadata": {},
   "outputs": [
    {
     "name": "stdout",
     "output_type": "stream",
     "text": [
      "Recommendations for the movie SCREAM 3:\n",
      "\n",
      "1 st Movie: \n",
      "Friday the 13th: A New Beginning\n",
      "\n",
      "2 nd Movie: \n",
      "Friday the 13th Part VI: Jason Lives\n",
      "\n",
      "3 rd Movie: \n",
      "Me, Myself & Irene\n",
      "\n",
      "4 th Movie: \n",
      "Celebrity\n",
      "\n",
      "5 th Movie: \n",
      "Friday the 13th Part VII: The New Blood\n",
      "\n"
     ]
    },
    {
     "data": {
      "image/png": "[encoded data removed]",
      "text/plain": [
       "<Figure size 640x480 with 1 Axes>"
      ]
     },
     "metadata": {},
     "output_type": "display_data"
    }
   ],
   "source": [
    "movie_to_recommend = \"Scream 3\"\n",
    "MovieRec.recommend(movie_to_recommend)"
   ]
  },
  {
   "cell_type": "code",
   "execution_count": 27,
   "id": "856847be",
   "metadata": {},
   "outputs": [
    {
     "name": "stdout",
     "output_type": "stream",
     "text": [
      "Recommendations for the movie MORTAL KOMBAT:\n",
      "\n",
      "1 st Movie: \n",
      "Mortal Kombat: Annihilation\n",
      "\n",
      "2 nd Movie: \n",
      "DOA: Dead or Alive\n",
      "\n",
      "3 rd Movie: \n",
      "Harry Potter and the Goblet of Fire\n",
      "\n",
      "4 th Movie: \n",
      "Alone in the Dark\n",
      "\n",
      "5 th Movie: \n",
      "The Angry Birds Movie\n",
      "\n"
     ]
    },
    {
     "data": {
      "image/png": "[encoded data removed]",
      "text/plain": [
       "<Figure size 640x480 with 1 Axes>"
      ]
     },
     "metadata": {},
     "output_type": "display_data"
    }
   ],
   "source": [
    "movie_to_recommend = \"Mortal Kombat\"\n",
    "MovieRec.recommend(movie_to_recommend)"
   ]
  },
  {
   "cell_type": "markdown",
   "id": "9839379b",
   "metadata": {},
   "source": [
    "### `TF-IDF` from scratch using numpy!"
   ]
  },
  {
   "cell_type": "code",
   "execution_count": 28,
   "id": "cca6f66b",
   "metadata": {},
   "outputs": [
    {
     "data": {
      "text/html": [
       "<div>\n",
       "<style scoped>\n",
       "    .dataframe tbody tr th:only-of-type {\n",
       "        vertical-align: middle;\n",
       "    }\n",
       "\n",
       "    .dataframe tbody tr th {\n",
       "        vertical-align: top;\n",
       "    }\n",
       "\n",
       "    .dataframe thead th {\n",
       "        text-align: right;\n",
       "    }\n",
       "</style>\n",
       "<table border=\"1\" class=\"dataframe\">\n",
       "  <thead>\n",
       "    <tr style=\"text-align: right;\">\n",
       "      <th></th>\n",
       "      <th>text</th>\n",
       "      <th>labels</th>\n",
       "    </tr>\n",
       "  </thead>\n",
       "  <tbody>\n",
       "    <tr>\n",
       "      <th>0</th>\n",
       "      <td>Ad sales boost Time Warner profit\\n\\nQuarterly...</td>\n",
       "      <td>business</td>\n",
       "    </tr>\n",
       "    <tr>\n",
       "      <th>1</th>\n",
       "      <td>Dollar gains on Greenspan speech\\n\\nThe dollar...</td>\n",
       "      <td>business</td>\n",
       "    </tr>\n",
       "    <tr>\n",
       "      <th>2</th>\n",
       "      <td>Yukos unit buyer faces loan claim\\n\\nThe owner...</td>\n",
       "      <td>business</td>\n",
       "    </tr>\n",
       "    <tr>\n",
       "      <th>3</th>\n",
       "      <td>High fuel prices hit BA's profits\\n\\nBritish A...</td>\n",
       "      <td>business</td>\n",
       "    </tr>\n",
       "    <tr>\n",
       "      <th>4</th>\n",
       "      <td>Pernod takeover talk lifts Domecq\\n\\nShares in...</td>\n",
       "      <td>business</td>\n",
       "    </tr>\n",
       "  </tbody>\n",
       "</table>\n",
       "</div>"
      ],
      "text/plain": [
       "                                                text    labels\n",
       "0  Ad sales boost Time Warner profit\\n\\nQuarterly...  business\n",
       "1  Dollar gains on Greenspan speech\\n\\nThe dollar...  business\n",
       "2  Yukos unit buyer faces loan claim\\n\\nThe owner...  business\n",
       "3  High fuel prices hit BA's profits\\n\\nBritish A...  business\n",
       "4  Pernod takeover talk lifts Domecq\\n\\nShares in...  business"
      ]
     },
     "execution_count": 28,
     "metadata": {},
     "output_type": "execute_result"
    }
   ],
   "source": [
    "import pandas as pd\n",
    "path_to_data = \"data/bbc_text_cls.csv\"\n",
    "df = pd.read_csv(path_to_data)\n",
    "df.head()"
   ]
  },
  {
   "cell_type": "code",
   "execution_count": 29,
   "id": "3b866f0f",
   "metadata": {},
   "outputs": [],
   "source": [
    "from nltk import word_tokenize\n",
    "import numpy as np\n",
    "\n",
    "class tfidf_vectorizer():\n",
    "    def __init__(self):\n",
    "        self.word2idx = {}\n",
    "        self.idx2word = {}\n",
    "        self.idf = []\n",
    "    \n",
    "    def fit_transform(self, data):\n",
    "        curr_idx = 0\n",
    "        all_text = data['text']\n",
    "        tokenized_docs = [] # Save computational time by storing the tokens in the first pass\n",
    "        \n",
    "        # Initialize the maping\n",
    "        for text in all_text:\n",
    "            all_tokens = word_tokenize(text.lower())\n",
    "            doc_as_int = []\n",
    "            for token in all_tokens:\n",
    "                if token not in self.word2idx:\n",
    "                    self.word2idx[token] = curr_idx\n",
    "                    self.idx2word[curr_idx] = token\n",
    "                    curr_idx += 1\n",
    "                doc_as_int.append(self.word2idx[token])\n",
    "            \n",
    "            tokenized_docs.append(doc_as_int)\n",
    "\n",
    "        N, V = len(all_text), len(self.word2idx.keys())\n",
    "        arr = np.zeros(shape=(N, V))\n",
    "\n",
    "        # TF\n",
    "        for i, text in enumerate(tokenized_docs):\n",
    "            for token_idx in tokenized_docs[i]:\n",
    "                arr[i, token_idx] += 1\n",
    "\n",
    "        # IDF (save it since the importance of the tokens should just be inferred from the training data)\n",
    "        self.idf = np.log((N+1)/(np.sum(arr != 0, axis = 0) + 1)) + 1\n",
    "        \n",
    "        # Join everything\n",
    "        arr *= self.idf\n",
    "        \n",
    "        return normalize(arr, axis=1)\n",
    "    \n",
    "    def transform(self, data):\n",
    "        if isinstance(data, pd.DataFrame):\n",
    "            all_text = data['text']\n",
    "        else:\n",
    "            all_text = data\n",
    "        \n",
    "        N, V = len(all_text), len(self.word2idx.keys())\n",
    "        arr = np.zeros(shape=(N, V))\n",
    "\n",
    "        # TF\n",
    "        for i, text in enumerate(all_text):\n",
    "            all_tokens = word_tokenize(text.lower())\n",
    "            for token in all_tokens:\n",
    "                if token in self.word2idx: # Ignore tokens not present in train data\n",
    "                    arr[i, self.word2idx[token]] += 1\n",
    "            \n",
    "        # Join with IDF computed in fit\n",
    "        arr *= self.idf\n",
    "        \n",
    "        return normalize(arr, axis=1)"
   ]
  },
  {
   "cell_type": "code",
   "execution_count": 30,
   "id": "16c4f10b",
   "metadata": {},
   "outputs": [
    {
     "data": {
      "text/plain": [
       "77013925"
      ]
     },
     "execution_count": 30,
     "metadata": {},
     "output_type": "execute_result"
    }
   ],
   "source": [
    "tfidf = tfidf_vectorizer()\n",
    "vectorizer = tfidf.fit_transform(df)\n",
    "vectorizer.size"
   ]
  },
  {
   "cell_type": "code",
   "execution_count": 31,
   "id": "fd6e4db4",
   "metadata": {},
   "outputs": [
    {
     "data": {
      "text/plain": [
       "77013925"
      ]
     },
     "execution_count": 31,
     "metadata": {},
     "output_type": "execute_result"
    }
   ],
   "source": [
    "test_vec = tfidf.transform(df)\n",
    "test_vec.size"
   ]
  },
  {
   "cell_type": "markdown",
   "id": "956ad6e4",
   "metadata": {},
   "source": [
    "### `TF-IDF` from scratch using scipy!"
   ]
  },
  {
   "cell_type": "code",
   "execution_count": 32,
   "id": "decee793",
   "metadata": {},
   "outputs": [],
   "source": [
    "import pandas as pd\n",
    "import numpy as np\n",
    "from nltk import word_tokenize\n",
    "from sklearn.preprocessing import normalize\n",
    "from scipy.sparse import lil_matrix, csr_matrix\n",
    "\n",
    "class sparse_tfidf_vectorizer():\n",
    "    def __init__(self):\n",
    "        self.word2idx = {}\n",
    "        self.idx2word = {}\n",
    "        self.idf = None\n",
    "    \n",
    "    def fit_transform(self, data):\n",
    "        all_text = data['text']\n",
    "        curr_idx = 0\n",
    "        tokenized_docs = []\n",
    "        \n",
    "        # Build vocab and save tokenized docs\n",
    "        for text in all_text:\n",
    "            all_tokens = word_tokenize(text.lower())\n",
    "            doc_as_int = []\n",
    "            for token in all_tokens:\n",
    "                if token not in self.word2idx:\n",
    "                    self.word2idx[token] = curr_idx\n",
    "                    self.idx2word[curr_idx] = token\n",
    "                    curr_idx += 1\n",
    "                doc_as_int.append(self.word2idx[token])\n",
    "            tokenized_docs.append(doc_as_int)\n",
    "\n",
    "        N, V = len(all_text), len(self.word2idx)\n",
    "        arr = lil_matrix((N, V))  # lil is efficient for row updates\n",
    "\n",
    "        # TF counts\n",
    "        for i, doc in enumerate(tokenized_docs):\n",
    "            for idx in doc:\n",
    "                arr[i, idx] += 1\n",
    "\n",
    "        # Compute IDF\n",
    "        df = np.array((arr > 0).sum(axis=0)).flatten()\n",
    "        self.idf = np.log((N + 1) / (df + 1)) + 1\n",
    "\n",
    "        # Apply IDF\n",
    "        arr = arr.tocsr()\n",
    "        arr = arr.multiply(self.idf)\n",
    "        \n",
    "        return normalize(arr, axis=1)\n",
    "\n",
    "    \n",
    "    def transform(self, data):\n",
    "        if isinstance(data, pd.DataFrame):\n",
    "            all_text = data['text']\n",
    "        else:\n",
    "            all_text = data\n",
    "        \n",
    "        N, V = len(all_text), len(self.word2idx.keys())\n",
    "        arr = lil_matrix((N, V))\n",
    "\n",
    "        # TF\n",
    "        for i, text in enumerate(all_text):\n",
    "            all_tokens = word_tokenize(text.lower())\n",
    "            for token in all_tokens:\n",
    "                if token in self.word2idx: # Ignore tokens not present in train data\n",
    "                    arr[i, self.word2idx[token]] += 1\n",
    "            \n",
    "        # Apply IDF\n",
    "        arr = arr.tocsr()\n",
    "        arr = arr.multiply(self.idf)\n",
    "        \n",
    "        return normalize(arr, axis=1)"
   ]
  },
  {
   "cell_type": "code",
   "execution_count": 33,
   "id": "d42a077c",
   "metadata": {},
   "outputs": [
    {
     "data": {
      "text/plain": [
       "<Compressed Sparse Row sparse matrix of dtype 'float64'\n",
       "\twith 469214 stored elements and shape (2225, 34613)>"
      ]
     },
     "execution_count": 33,
     "metadata": {},
     "output_type": "execute_result"
    }
   ],
   "source": [
    "tfidf = sparse_tfidf_vectorizer()\n",
    "vectorizer2 = tfidf.fit_transform(df)\n",
    "vectorizer2"
   ]
  },
  {
   "cell_type": "code",
   "execution_count": 34,
   "id": "3fcb8360",
   "metadata": {},
   "outputs": [
    {
     "data": {
      "text/plain": [
       "<Compressed Sparse Row sparse matrix of dtype 'float64'\n",
       "\twith 469214 stored elements and shape (2225, 34613)>"
      ]
     },
     "execution_count": 34,
     "metadata": {},
     "output_type": "execute_result"
    }
   ],
   "source": [
    "test_vec2 = tfidf.transform(df)\n",
    "test_vec2"
   ]
  },
  {
   "cell_type": "markdown",
   "id": "13947707",
   "metadata": {},
   "source": [
    "## Vector models "
   ]
  },
  {
   "cell_type": "markdown",
   "id": "de462776",
   "metadata": {},
   "source": [
    "In this case I can't write code since it is not compatible with **Python 3.13.x** (**GloVe** and **Word2Vec**). "
   ]
  },
  {
   "cell_type": "markdown",
   "id": "48cb3f2a",
   "metadata": {},
   "source": [
    "# Markov Models"
   ]
  },
  {
   "cell_type": "markdown",
   "id": "ea80fede",
   "metadata": {},
   "source": [
    "## Markov Text Classifier "
   ]
  },
  {
   "cell_type": "code",
   "execution_count": 35,
   "id": "9e631a35",
   "metadata": {},
   "outputs": [],
   "source": [
    "import string\n",
    "\n",
    "poe_path = \"data/poe.txt\"\n",
    "frost_path = \"data/frost.txt\"\n",
    "mapa_str_idx = {'Poe': 0, 'Frost': 1}\n",
    "\n",
    "lista = []\n",
    "\n",
    "def process_file(path, label):\n",
    "    with open(path, \"r\", encoding=\"utf-8\") as f:\n",
    "        for line in f:\n",
    "            line = line.rstrip().lower()\n",
    "            \n",
    "            if line:\n",
    "                line = line.translate(str.maketrans('', '', string.punctuation)) # Remove punctuation\n",
    "                lista.append([line, label])\n",
    "\n",
    "# Populate with Poe\n",
    "process_file(poe_path, mapa_str_idx['Poe'])\n",
    "\n",
    "# Populate with Frost\n",
    "process_file(frost_path, mapa_str_idx['Frost'])"
   ]
  },
  {
   "cell_type": "code",
   "execution_count": 36,
   "id": "ad0a39de",
   "metadata": {},
   "outputs": [],
   "source": [
    "import pandas as pd\n",
    "import numpy as np\n",
    "from sklearn.model_selection import train_test_split\n",
    "from nltk import word_tokenize\n",
    "from sklearn.preprocessing import normalize\n",
    "\n",
    "data = pd.DataFrame(lista, columns=['text', 'label'])\n",
    "data.head()\n",
    "\n",
    "# Get X and y\n",
    "X, y = data['text'], data['label']\n",
    "\n",
    "# Split\n",
    "X_train, X_test, y_train, y_test = train_test_split(X, y, test_size=0.3)"
   ]
  },
  {
   "cell_type": "code",
   "execution_count": 37,
   "id": "4abc9139",
   "metadata": {},
   "outputs": [],
   "source": [
    "class Markov():\n",
    "    def __init__(self, mapa):\n",
    "        self.mapa = mapa\n",
    "        self.word2idx_poe = {}\n",
    "        self.word2idx_frost = {}\n",
    "        self.poe_prob = 0\n",
    "        self.matrix_poe = np.array([])\n",
    "        self.matrix_frost = np.array([])\n",
    "        self.pi0_poe = np.array([])\n",
    "        self.pi0_frost = np.array([])\n",
    "\n",
    "    def fit(self, X, y):\n",
    "        N = len(y)\n",
    "        curr_idx_poe = 0\n",
    "        curr_idx_frost = 0\n",
    "        num_poe = 0\n",
    "        num_frost = 0\n",
    "        lista_idx_poe = []\n",
    "        lista_idx_frost = []\n",
    "\n",
    "        for text, label in zip(X, y):\n",
    "            curr_lista = []\n",
    "            words = word_tokenize(text)\n",
    "            \n",
    "            # Process Poe\n",
    "            if self.mapa['Poe'] == label:\n",
    "                num_poe += 1\n",
    "                for token in words:\n",
    "                    if token not in self.word2idx_poe:\n",
    "                        self.word2idx_poe[token] = curr_idx_poe\n",
    "                        curr_idx_poe += 1\n",
    "                    \n",
    "                    curr_lista.append(self.word2idx_poe[token])\n",
    "\n",
    "                lista_idx_poe.append(curr_lista)\n",
    "\n",
    "            # Process Frost\n",
    "            else:\n",
    "                num_frost += 1\n",
    "                for token in words:\n",
    "                    if token not in self.word2idx_frost:\n",
    "                        self.word2idx_frost[token] = curr_idx_frost\n",
    "                        curr_idx_frost += 1 \n",
    "                    \n",
    "                    curr_lista.append(self.word2idx_frost[token])\n",
    "\n",
    "                lista_idx_frost.append(curr_lista)\n",
    "            \n",
    "        \n",
    "        self.poe_prob = np.log(float(num_poe) / N)\n",
    "        self.frost_prob = np.log(float(num_frost) / N)\n",
    "\n",
    "        V_poe, V_frost = len(self.word2idx_poe.values()) + 1, len(self.word2idx_frost.values()) + 1 # To account for unknown words\n",
    "        self.word2idx_frost['<unk>'] = V_frost - 1 # Map unknown words to last indice\n",
    "        self.word2idx_poe['<unk>'] = V_poe - 1\n",
    "        \n",
    "        matrix_poe, matrix_frost = np.ones(shape=(V_poe, V_poe)), np.ones(shape=(V_frost, V_frost))\n",
    "        pi0_poe, pi0_frost = np.ones(shape=(V_poe, 1)), np.ones(shape=(V_frost, 1))\n",
    "\n",
    "        # Populate poe\n",
    "        for doc in lista_idx_poe:\n",
    "            for i, idx in enumerate(doc):\n",
    "                if i == 0:\n",
    "                    pi0_poe[idx] += 1\n",
    "                else:\n",
    "                    idx2 = doc[i-1]\n",
    "                    matrix_poe[idx2, idx] += 1\n",
    "        \n",
    "        # Populate frost\n",
    "        for doc in lista_idx_frost:\n",
    "            for i, idx in enumerate(doc):\n",
    "                if i == 0:\n",
    "                    pi0_frost[idx] += 1\n",
    "                else:\n",
    "                    idx2 = doc[i-1]\n",
    "                    matrix_frost[idx2, idx] += 1\n",
    "\n",
    "        # Normalize counts to probabilities then to log\n",
    "        self.matrix_poe, self.matrix_frost = np.log(normalize(matrix_poe, axis=1, norm='l1')), np.log(normalize(matrix_frost, axis=1, norm='l1'))\n",
    "        self.pi0_poe, self.pi0_frost = np.log(normalize(pi0_poe, norm='l1')), np.log(normalize(pi0_frost, norm='l1'))\n",
    "    \n",
    "    def predict(self, X):\n",
    "        size = len(X)\n",
    "        yhat = np.zeros(shape=(size))\n",
    "\n",
    "        for j, doc in enumerate(X):\n",
    "            words = word_tokenize(doc)\n",
    "            prob_poe = 0\n",
    "            prob_frost = 0\n",
    "\n",
    "            for i, token in enumerate(words):\n",
    "                token_poe, token_frost = token, token\n",
    "                if token_poe not in self.word2idx_poe:\n",
    "                    token_poe = '<unk>'\n",
    "                if token_frost not in self.word2idx_frost:\n",
    "                    token_frost = '<unk>'\n",
    "\n",
    "                idx_poe = self.word2idx_poe[token_poe] \n",
    "                idx_frost = self.word2idx_frost[token_frost] \n",
    "                if i == 0:\n",
    "                    prob_poe += self.pi0_poe[idx_poe]\n",
    "                    prob_frost += self.pi0_frost[idx_frost]\n",
    "                else:\n",
    "                    prev_token_poe, prev_token_frost = words[i-1], words[i-1]\n",
    "                    if prev_token_poe not in self.word2idx_poe:\n",
    "                        prev_token_poe = '<unk>'\n",
    "                    if  prev_token_frost not in self.word2idx_frost:\n",
    "                        prev_token_frost = '<unk>'\n",
    "\n",
    "                    last_idx_poe = self.word2idx_poe[prev_token_poe]\n",
    "                    last_idx_frost = self.word2idx_frost[prev_token_frost] \n",
    "                    \n",
    "                    prob_poe += self.matrix_poe[last_idx_poe, idx_poe]\n",
    "                    prob_frost += self.matrix_frost[last_idx_frost, idx_frost]\n",
    "        \n",
    "            final_poe_prob = prob_poe + self.poe_prob\n",
    "            final_frost_prob = prob_frost + self.frost_prob\n",
    "\n",
    "            yhat[j] = self.mapa['Poe'] if final_poe_prob > final_frost_prob else self.mapa['Frost']\n",
    "        \n",
    "        return yhat\n",
    "\n",
    "def accuracy(yhat, y):\n",
    "    return np.mean(yhat == y)\n",
    "    \n",
    "def confusion_matrix(yhat, y, labels):\n",
    "    conf_matrix = np.zeros(shape=(2, 2), dtype=int)\n",
    "    for pred, true in zip(yhat, y):\n",
    "        conf_matrix[int(true), int(pred)] += 1\n",
    "    \n",
    "    df = pd.DataFrame(conf_matrix, index=[f\"True {l}\" for l in labels],\n",
    "                                   columns=[f\"Pred {l}\" for l in labels])\n",
    "   \n",
    "\n",
    "    return conf_matrix, df\n",
    "\n",
    "def f1_score(confusion_matrix):\n",
    "    eps = 1e-6\n",
    "    precision = confusion_matrix[1][1] / (confusion_matrix[1][1] + confusion_matrix[0][1] + eps)\n",
    "    recall = confusion_matrix[1][1] / (confusion_matrix[1][1] + confusion_matrix[1][0] + eps)\n",
    "    f1 = (2 * precision * recall) / (precision + recall + eps)\n",
    "\n",
    "    return precision, recall, f1"
   ]
  },
  {
   "cell_type": "code",
   "execution_count": 38,
   "id": "6d6fbdc7",
   "metadata": {},
   "outputs": [
    {
     "name": "stdout",
     "output_type": "stream",
     "text": [
      "Info:\n",
      "Probability of Poe Poem: 0.33\n",
      "Probability of Frost Poem: 0.67\n",
      "\n",
      "Train Metrics:\n",
      "Accuracy: 99.20%\n",
      "Precision: 99.80%\n",
      "Recall: 99.01%\n",
      "F1-score: 0.994\n",
      "            Pred Poe  Pred Frost\n",
      "True Poe         496           2\n",
      "True Frost        10         999\n",
      "\n",
      "Test Metrics:\n",
      "Accuracy: 47.76%\n",
      "Precision: 97.85%\n",
      "Recall: 21.31%\n",
      "F1-score: 0.350\n",
      "            Pred Poe  Pred Frost\n",
      "True Poe         218           2\n",
      "True Frost       336          91\n"
     ]
    }
   ],
   "source": [
    "labels = ['Poe', 'Frost']\n",
    "\n",
    "# Initialize and fit model\n",
    "markov = Markov(mapa_str_idx)\n",
    "markov.fit(X_train, y_train)\n",
    "print(\"Info:\")\n",
    "print(f\"Probability of Poe Poem: {np.exp(markov.poe_prob):.2f}\")\n",
    "print(f\"Probability of Frost Poem: {np.exp(markov.frost_prob):.2f}\")\n",
    "\n",
    "# Get Train performance\n",
    "y_hat = markov.predict(X_train)\n",
    "acc = accuracy(y_hat, y_train)\n",
    "conf, df = confusion_matrix(y_hat, y_train, labels)\n",
    "prec, rec, f1 = f1_score(conf)\n",
    "\n",
    "print(f\"\\nTrain Metrics:\")\n",
    "print(f\"Accuracy: {acc * 100:.2f}%\")\n",
    "print(f\"Precision: {prec * 100:.2f}%\")\n",
    "print(f\"Recall: {rec * 100:.2f}%\")\n",
    "print(f\"F1-score: {f1:.3f}\")\n",
    "print(df)\n",
    "\n",
    "# Get Test performance\n",
    "y_hat = markov.predict(X_test)\n",
    "acc = accuracy(y_hat, y_test)\n",
    "conf, df = confusion_matrix(y_hat, y_test, labels)\n",
    "prec, rec, f1 = f1_score(conf)\n",
    "\n",
    "print(f\"\\nTest Metrics:\")\n",
    "print(f\"Accuracy: {acc * 100:.2f}%\")\n",
    "print(f\"Precision: {prec * 100:.2f}%\")\n",
    "print(f\"Recall: {rec * 100:.2f}%\")\n",
    "print(f\"F1-score: {f1:.3f}\")\n",
    "print(df)"
   ]
  },
  {
   "cell_type": "markdown",
   "id": "626effcd",
   "metadata": {},
   "source": [
    "## Markov Text Generator "
   ]
  },
  {
   "cell_type": "code",
   "execution_count": 7,
   "id": "681c3f3b",
   "metadata": {},
   "outputs": [],
   "source": [
    "import string\n",
    "\n",
    "data_path = \"data/robert.txt\"\n",
    "\n",
    "def process_file(path):\n",
    "    poems = []\n",
    "    curr_poem = []\n",
    "\n",
    "    with open(path, \"r\", encoding=\"utf-8\") as f:\n",
    "        for line in f:\n",
    "            line = line.rstrip().lower()\n",
    "            \n",
    "            if line:\n",
    "                line = line.translate(str.maketrans('', '', string.punctuation))\n",
    "                curr_poem.append(line)\n",
    "            else:\n",
    "        \n",
    "                if curr_poem:\n",
    "                    poems.append(\" <new_line> \".join(curr_poem))  # join lines into one string\n",
    "                    curr_poem = []\n",
    "\n",
    "        if curr_poem:\n",
    "            poems.append(\" <new_line> \".join(curr_poem))\n",
    "\n",
    "    return poems\n",
    "\n",
    "# Populate with the data\n",
    "X = process_file(data_path)"
   ]
  },
  {
   "cell_type": "code",
   "execution_count": 8,
   "id": "8ec3ce4e",
   "metadata": {},
   "outputs": [],
   "source": [
    "import numpy as np\n",
    "\n",
    "class MarkovGenerator():\n",
    "    def __init__(self):\n",
    "        self.bi_probs = {}\n",
    "        self.uni_probs = {}\n",
    "        self.pi0 = {}\n",
    "        \n",
    "    def fit(self, X):\n",
    "        for poem in X:\n",
    "            last_token, last_two_token = None, None\n",
    "            all_words = poem.split() + ['<eos>'] # Add end of speech token to train\n",
    "            for token in all_words:\n",
    "                # First word\n",
    "                if not last_token:\n",
    "                    if token not in self.pi0:\n",
    "                        self.pi0[token] = 1\n",
    "                    else:\n",
    "                        self.pi0[token] += 1\n",
    "                \n",
    "                # Second word\n",
    "                elif not last_two_token:\n",
    "                    if last_token not in self.uni_probs:\n",
    "                        self.uni_probs[last_token] = {token: 1}\n",
    "                    \n",
    "                    elif token not in self.uni_probs[last_token]:\n",
    "                        self.uni_probs[last_token][token] = 1\n",
    "                    \n",
    "                    else:\n",
    "                        self.uni_probs[last_token][token] += 1\n",
    "                \n",
    "                # Rest of the words\n",
    "                else:\n",
    "                    if last_two_token not in self.bi_probs:\n",
    "                        self.bi_probs[last_two_token] = {last_token: {token: 1}}\n",
    "\n",
    "                    elif last_token not in self.bi_probs[last_two_token]:\n",
    "                        self.bi_probs[last_two_token][last_token] =  {token: 1}\n",
    "\n",
    "                    elif token not in self.bi_probs[last_two_token][last_token]:\n",
    "                        self.bi_probs[last_two_token][last_token][token] = 1\n",
    "                    \n",
    "                    else:\n",
    "                        self.bi_probs[last_two_token][last_token][token] += 1\n",
    "\n",
    "\n",
    "                last_token, last_two_token = token, last_token\n",
    "    \n",
    "        # Normalize the probabilities\n",
    "        total_count = float(sum(self.pi0.values()))\n",
    "        for word in self.pi0.keys():\n",
    "            self.pi0[word] /= total_count\n",
    "        \n",
    "        for prev_word in self.uni_probs.keys():\n",
    "            total_count = float(sum(self.uni_probs[prev_word].values()))\n",
    "            for word in self.uni_probs[prev_word].keys():\n",
    "                self.uni_probs[prev_word][word] /= total_count\n",
    "        \n",
    "        for last_two_word in self.bi_probs.keys():\n",
    "            for prev_word in self.bi_probs[last_two_word].keys():\n",
    "                total_count = float(sum(self.bi_probs[last_two_word][prev_word].values()))\n",
    "                for word in self.bi_probs[last_two_word][prev_word].keys():\n",
    "                    self.bi_probs[last_two_word][prev_word][word] /= total_count\n",
    "        \n",
    "    def generate(self, num_token=100):\n",
    "        all_text = []\n",
    "        last_two_word, last_word = None, None\n",
    "        for _ in range(num_token):\n",
    "            if not last_word:\n",
    "                words, probs = list(self.pi0.keys()), list(self.pi0.values())\n",
    "\n",
    "            elif not last_two_word:\n",
    "                if last_word in self.uni_probs:\n",
    "                    words, probs = list(self.uni_probs[last_word].keys()), list(self.uni_probs[last_word].values())\n",
    "                else:\n",
    "                    words, probs = list(self.pi0.keys()), list(self.pi0.values())\n",
    "\n",
    "            else:\n",
    "                if last_two_word in self.bi_probs and last_word in self.bi_probs[last_two_word]:\n",
    "                    words, probs = list(self.bi_probs[last_two_word][last_word].keys()), \\\n",
    "                                list(self.bi_probs[last_two_word][last_word].values())\n",
    "                \n",
    "                elif last_word in self.uni_probs:\n",
    "                    words, probs = list(self.uni_probs[last_word].keys()), list(self.uni_probs[last_word].values())\n",
    "                \n",
    "                else:\n",
    "                    words, probs = list(self.pi0.keys()), list(self.pi0.values())\n",
    "\n",
    "            gen_word = np.random.choice(words, p=probs)\n",
    "            if gen_word == '<eos>': # Check if end of speech token is selected\n",
    "                break\n",
    "                    \n",
    "            all_text.append(gen_word)\n",
    "            last_two_word, last_word = last_word, gen_word\n",
    "\n",
    "        return ' '.join(all_text).replace(\" <new_line> \", \"\\n\").capitalize()"
   ]
  },
  {
   "cell_type": "code",
   "execution_count": 9,
   "id": "7ba3a01d",
   "metadata": {},
   "outputs": [],
   "source": [
    "gen = MarkovGenerator()\n",
    "gen.fit(X)"
   ]
  },
  {
   "cell_type": "code",
   "execution_count": 16,
   "id": "8f440c31",
   "metadata": {},
   "outputs": [
    {
     "name": "stdout",
     "output_type": "stream",
     "text": [
      "My little horse must think it isnt worth the mortgage\n",
      "i hope if he must have heard of clara robinson\n",
      "the mica sheets were big as plateglass windows\n",
      "hed like to hear the voices seem to you to cool the room\n",
      "with me\n",
      "you couldnt call it living for it aint\n",
      "there is a good deal to bad masonry\n",
      "you riddle with your genealogy\n",
      "like graveyard marble sculpture in the cellar in spring\n",
      "struck the hand off brittle on the mountain halfway up\n",
      "in front of twenty then\n",
      "having\n"
     ]
    }
   ],
   "source": [
    "print(gen.generate())"
   ]
  },
  {
   "cell_type": "markdown",
   "id": "0dc1aa9f",
   "metadata": {},
   "source": [
    "## Cipher Decryption"
   ]
  },
  {
   "cell_type": "code",
   "execution_count": 1,
   "id": "b2e5a8e6",
   "metadata": {},
   "outputs": [],
   "source": [
    "import numpy as np\n",
    "import matplotlib.pyplot as plt\n",
    "import string\n",
    "import random\n",
    "import re\n",
    "import requests\n",
    "import os\n",
    "import textwrap\n",
    "\n",
    "# Get the .txt file\n",
    "if not os.path.exists(os.path.join(\"data\", 'moby_dick.txt')):\n",
    "  print(\"Downloading moby dick...\")\n",
    "  r = requests.get('https://lazyprogrammer.me/course_files/moby_dick.txt')\n",
    "  with open('moby_dick.txt', 'w', encoding='utf-8') as f:\n",
    "    f.write(r.content.decode())"
   ]
  },
  {
   "cell_type": "code",
   "execution_count": 2,
   "id": "d351acf5",
   "metadata": {},
   "outputs": [],
   "source": [
    "class LM():\n",
    "    def __init__(self):\n",
    "        self.mat = np.ones(shape=(26, 26))\n",
    "        self.pi0 = np.ones(shape=(26))\n",
    "\n",
    "    def fit(self, X):\n",
    "        regex = re.compile('[^a-zA-Z]')\n",
    "        # Populate matrix and vector\n",
    "        with open(X, 'r', encoding='utf-8') as f:\n",
    "            for line in f:\n",
    "                if line:\n",
    "                    line = line.translate(str.maketrans('', '', string.punctuation))\n",
    "                    line = regex.sub(' ', line)\n",
    "                    tokens = line.lower().split()\n",
    "                    for token in tokens:\n",
    "                        prev_idx = ord(token[0]) - ord('a')\n",
    "                        self.pi0[prev_idx] += 1\n",
    "                        for char in token[1:]:\n",
    "                            curr_idx = ord(char) - ord('a')\n",
    "                            self.mat[prev_idx, curr_idx] += 1\n",
    "                            prev_idx = curr_idx\n",
    "        \n",
    "        # Normalize matrix and vector\n",
    "        self.pi0 /= self.pi0.sum()\n",
    "        self.pi0 = np.log(self.pi0)\n",
    "\n",
    "        counts = np.sum(self.mat, axis=1)\n",
    "        self.mat /= counts\n",
    "        self.mat = np.log(self.mat)\n",
    "    \n",
    "    def predict(self, message):\n",
    "        tokens = message.lower().split()\n",
    "        total_prob = 0\n",
    "\n",
    "        for token in tokens:\n",
    "            prev_idx = ord(token[0]) - ord('a')\n",
    "            total_prob += self.pi0[prev_idx]\n",
    "            for char in token[1:]:\n",
    "                curr_idx = ord(char) - ord('a')\n",
    "                total_prob += self.mat[prev_idx, curr_idx]\n",
    "                prev_idx = curr_idx\n",
    "        \n",
    "        return total_prob\n",
    "\n",
    "class Population():\n",
    "    def __init__(self, num_parents=5, num_child = 3):\n",
    "        self.num_parents = num_parents\n",
    "        self.num_child = num_child\n",
    "    \n",
    "    def populate(self):\n",
    "        population = []\n",
    "        for _ in range(self.num_parents):\n",
    "            new_population = Being()\n",
    "            population.append(new_population)\n",
    "        \n",
    "        self.population = population\n",
    "\n",
    "    def Evolve(self, lang_model, message, num_epochs=100):\n",
    "        for _ in range(num_epochs):\n",
    "            new_lista = []\n",
    "            for parent in self.population:\n",
    "                new_lista.append(parent)\n",
    "                children = parent.get_off_spring()\n",
    "                new_lista.extend(children)\n",
    "            \n",
    "            scores = np.zeros(shape=(len(new_lista)))\n",
    "            for i, being in enumerate(new_lista):\n",
    "                decoded_msg = being.decode(message)\n",
    "                scores[i] = -lang_model.predict(decoded_msg)\n",
    "            \n",
    "            indices = np.argsort(scores)\n",
    "            self.population = [new_lista[idx] for idx in indices[:self.num_parents]]\n",
    "        \n",
    "    def getMessage(self, orig_msg):\n",
    "        best_being = self.population[0]\n",
    "        message = best_being.decode(orig_msg)\n",
    "        print(\"Recovered Message:\")\n",
    "        print(textwrap.fill(message))\n",
    "\n",
    "class Being(Population):\n",
    "    def __init__(self, arr=np.array([])):\n",
    "        super().__init__() # Get some parameters\n",
    "        if len(arr) == 0:\n",
    "            chars = list(string.ascii_lowercase)\n",
    "            arr = np.array(chars)\n",
    "            np.random.shuffle(arr)\n",
    "        \n",
    "        self.mapa = arr\n",
    "    \n",
    "    def get_off_spring(self):\n",
    "        children = []\n",
    "        for _ in range(self.num_child):\n",
    "            idx, idx2 = np.random.randint(26, size=2)\n",
    "            new_mapa = self.get_map().copy()\n",
    "            new_mapa[idx], new_mapa[idx2] = new_mapa[idx2], new_mapa[idx]\n",
    "            new_being = Being(new_mapa)\n",
    "            children.append(new_being)\n",
    "        \n",
    "        return children\n",
    "    \n",
    "    def get_map(self):\n",
    "        return self.mapa\n",
    "    \n",
    "    def decode(self, message):\n",
    "        char_list = []\n",
    "        words = message.lower().split()\n",
    "        for i, word in enumerate(words):\n",
    "            for char in word:\n",
    "                idx = ord(char) - ord('a')\n",
    "                char_list.append(self.mapa[idx])\n",
    "            \n",
    "            if i < len(words) - 1:\n",
    "                char_list.append(\" \")\n",
    "        \n",
    "        return ''.join(char_list)"
   ]
  },
  {
   "cell_type": "code",
   "execution_count": null,
   "id": "9fc18ea3",
   "metadata": {},
   "outputs": [
    {
     "name": "stdout",
     "output_type": "stream",
     "text": [
      "Original Message:\n",
      "I then lounged down the street and found, as I expected, that there\n",
      "was a mews in a lane which runs down by one wall of the garden. I lent\n",
      "the ostlers a hand in rubbing down their horses, and received in\n",
      "exchange twopence, a glass of half-and-half, two fills of shag\n",
      "tobacco, and as much information as I could desire about Miss Adler,\n",
      "to say nothing of half a dozen other people in the neighbourhood in\n",
      "whom I was not in the least interested, but whose biographies I was\n",
      "compelled to listen to.\n",
      "\n",
      "Encrypted Message:\n",
      "l dasp ecophsi iczp das mdwssd vpi jcopi vm l srnsqdsi davd dasws zvm\n",
      "v xszm lp v evps zalqa wopm iczp bu cps zvee cj das hvwisp l espd das\n",
      "cmdeswm v avpi lp wobblph iczp daslw acwmsm vpi wsqslysi lp srqavphs\n",
      "dzcnspqs v hevmm cj avejvpiavej dzc jleem cj mavh dcbvqqc vpi vm xoqa\n",
      "lpjcwxvdlcp vm l qcoei ismlws vbcod xlmm viesw dc mvu pcdalph cj avej\n",
      "v ictsp cdasw nscnes lp das pslhabcowacci lp zacx l zvm pcd lp das\n",
      "esvmd lpdswsmdsi bod zacms blchwvnalsm l zvm qcxnseesi dc elmdsp dc\n"
     ]
    }
   ],
   "source": [
    "original_message = '''I then lounged down the street and found,\n",
    "as I expected, that there was a mews in a lane which runs down\n",
    "by one wall of the garden. I lent the ostlers a hand in rubbing\n",
    "down their horses, and received in exchange twopence, a glass of\n",
    "half-and-half, two fills of shag tobacco, and as much information\n",
    "as I could desire about Miss Adler, to say nothing of half a dozen\n",
    "other people in the neighbourhood in whom I was not in the least\n",
    "interested, but whose biographies I was compelled to listen to.\n",
    "'''\n",
    "print(\"Original Message:\")\n",
    "print(textwrap.fill(original_message))\n",
    "\n",
    "def encrypt(message, mapa):\n",
    "    message = message.translate(str.maketrans('', '', string.punctuation))\n",
    "    char_list = []\n",
    "    words = message.lower().split()\n",
    "    for i, word in enumerate(words):\n",
    "        for char in word:\n",
    "            idx = ord(char) - ord('a')\n",
    "            char_list.append(mapa[idx])\n",
    "            \n",
    "        if i < len(words) - 1:\n",
    "            char_list.append(\" \")\n",
    "        \n",
    "    return ''.join(char_list)\n",
    "\n",
    "\n",
    "chars = list(string.ascii_lowercase)\n",
    "encrypt_map = np.array(chars)\n",
    "np.random.shuffle(encrypt_map) \n",
    "\n",
    "new_message = encrypt(original_message, encrypt_map)\n",
    "print(\"\\nEncrypted Message:\")\n",
    "print(textwrap.fill(new_message))"
   ]
  },
  {
   "cell_type": "code",
   "execution_count": 6,
   "id": "33ca80ab",
   "metadata": {},
   "outputs": [
    {
     "name": "stdout",
     "output_type": "stream",
     "text": [
      "Recovered Message:\n",
      "i then lounged down the street and yound as i expected that there was\n",
      "a mews in a lane which runs down fz one wall oy the garden i lent the\n",
      "ostlers a hand in ruffing down their horses and received in exchange\n",
      "twopence a glass oy halyandhaly two yills oy shag tofacco and as much\n",
      "inyormation as i could desire afout miss adler to saz nothing oy haly\n",
      "a doken other people in the neighfourhood in whom i was not in the\n",
      "least interested fut whose fiographies i was compelled to listen to\n"
     ]
    }
   ],
   "source": [
    "X = \"data/moby_dick.txt\"\n",
    "\n",
    "# Get the language model\n",
    "llm = LM()\n",
    "llm.fit(X)\n",
    "\n",
    "# Get the population\n",
    "pop = Population()\n",
    "pop.populate()\n",
    "pop.Evolve(llm, new_message, num_epochs=10000)\n",
    "\n",
    "# Get the message\n",
    "pop.getMessage(new_message)"
   ]
  },
  {
   "cell_type": "markdown",
   "id": "66226dc7",
   "metadata": {},
   "source": [
    "# Machine Learning"
   ]
  },
  {
   "cell_type": "markdown",
   "id": "a3990bb9",
   "metadata": {},
   "source": [
    "## Spam Detection "
   ]
  },
  {
   "cell_type": "code",
   "execution_count": 74,
   "id": "37260428",
   "metadata": {},
   "outputs": [],
   "source": [
    "import pandas as pd\n",
    "import numpy as np\n",
    "import matplotlib.pyplot as plt\n",
    "import nltk\n",
    "import seaborn as sn\n",
    "from nltk.stem import WordNetLemmatizer\n",
    "from sklearn.feature_extraction.text import CountVectorizer\n",
    "from sklearn.metrics import roc_auc_score, f1_score, confusion_matrix\n",
    "from sklearn.naive_bayes import MultinomialNB\n",
    "from sklearn.model_selection import train_test_split\n",
    "from nltk import word_tokenize\n",
    "from nltk.corpus import wordnet"
   ]
  },
  {
   "cell_type": "code",
   "execution_count": 75,
   "id": "78103008",
   "metadata": {},
   "outputs": [],
   "source": [
    "# Convert parts of speech tags to wordnet tags\n",
    "def get_wordnet_pos(treebank_tag):\n",
    "    match treebank_tag[0]:\n",
    "        case 'J':\n",
    "            return wordnet.ADJ\n",
    "        case 'V':\n",
    "            return wordnet.VERB\n",
    "        case 'N':\n",
    "            return wordnet.NOUN\n",
    "        case 'R':\n",
    "            return wordnet.ADV\n",
    "        case _:\n",
    "            return wordnet.NOUN\n",
    "\n",
    "class LemmaTokenizer:\n",
    "    def __init__(self):\n",
    "        self.wnl = WordNetLemmatizer()\n",
    "    \n",
    "    def __call__(self, doc):\n",
    "        tokens = word_tokenize(doc)\n",
    "        words_and_tags = nltk.pos_tag(tokens)\n",
    "        return [self.wnl.lemmatize(word, pos=get_wordnet_pos(tag)) for word, tag in words_and_tags]"
   ]
  },
  {
   "cell_type": "code",
   "execution_count": 86,
   "id": "ddfbd601",
   "metadata": {},
   "outputs": [
    {
     "data": {
      "text/html": [
       "<div>\n",
       "<style scoped>\n",
       "    .dataframe tbody tr th:only-of-type {\n",
       "        vertical-align: middle;\n",
       "    }\n",
       "\n",
       "    .dataframe tbody tr th {\n",
       "        vertical-align: top;\n",
       "    }\n",
       "\n",
       "    .dataframe thead th {\n",
       "        text-align: right;\n",
       "    }\n",
       "</style>\n",
       "<table border=\"1\" class=\"dataframe\">\n",
       "  <thead>\n",
       "    <tr style=\"text-align: right;\">\n",
       "      <th></th>\n",
       "      <th>labels</th>\n",
       "      <th>data</th>\n",
       "    </tr>\n",
       "  </thead>\n",
       "  <tbody>\n",
       "    <tr>\n",
       "      <th>0</th>\n",
       "      <td>ham</td>\n",
       "      <td>Go until jurong point, crazy.. Available only ...</td>\n",
       "    </tr>\n",
       "    <tr>\n",
       "      <th>1</th>\n",
       "      <td>ham</td>\n",
       "      <td>Ok lar... Joking wif u oni...</td>\n",
       "    </tr>\n",
       "    <tr>\n",
       "      <th>2</th>\n",
       "      <td>spam</td>\n",
       "      <td>Free entry in 2 a wkly comp to win FA Cup fina...</td>\n",
       "    </tr>\n",
       "    <tr>\n",
       "      <th>3</th>\n",
       "      <td>ham</td>\n",
       "      <td>U dun say so early hor... U c already then say...</td>\n",
       "    </tr>\n",
       "    <tr>\n",
       "      <th>4</th>\n",
       "      <td>ham</td>\n",
       "      <td>Nah I don't think he goes to usf, he lives aro...</td>\n",
       "    </tr>\n",
       "  </tbody>\n",
       "</table>\n",
       "</div>"
      ],
      "text/plain": [
       "  labels                                               data\n",
       "0    ham  Go until jurong point, crazy.. Available only ...\n",
       "1    ham                      Ok lar... Joking wif u oni...\n",
       "2   spam  Free entry in 2 a wkly comp to win FA Cup fina...\n",
       "3    ham  U dun say so early hor... U c already then say...\n",
       "4    ham  Nah I don't think he goes to usf, he lives aro..."
      ]
     },
     "execution_count": 86,
     "metadata": {},
     "output_type": "execute_result"
    }
   ],
   "source": [
    "path_to_data = \"data/spam.csv\"\n",
    "df = pd.read_csv(path_to_data, encoding='ISO-8859-1')\n",
    "df = df.drop([\"Unnamed: 2\", \"Unnamed: 3\", \"Unnamed: 4\"], axis=1)\n",
    "df.columns = [\"labels\", \"data\"]\n",
    "df.head()"
   ]
  },
  {
   "cell_type": "code",
   "execution_count": 90,
   "id": "9f578309",
   "metadata": {},
   "outputs": [
    {
     "data": {
      "image/png": "[encoded data removed]",
      "text/plain": [
       "<Figure size 640x480 with 1 Axes>"
      ]
     },
     "metadata": {},
     "output_type": "display_data"
    }
   ],
   "source": [
    "df[\"labels\"].hist();"
   ]
  },
  {
   "cell_type": "code",
   "execution_count": 88,
   "id": "ebf67268",
   "metadata": {},
   "outputs": [],
   "source": [
    "mapa = {'ham': 0, 'spam':1}\n",
    "X, y = df['data'], df['labels']\n",
    "y_processed = np.array([mapa[elem] for elem in y])\n",
    "X_train, X_test, y_train, y_test = train_test_split(X, y_processed, test_size=0.3)"
   ]
  },
  {
   "cell_type": "code",
   "execution_count": 100,
   "id": "cb7a5024",
   "metadata": {},
   "outputs": [],
   "source": [
    "class Model:\n",
    "    def __init__(self, vectorizer, model):\n",
    "        self.vectorizer = vectorizer\n",
    "        self.model = model\n",
    "\n",
    "    def fit(self, X, y):\n",
    "        new_X = self.vectorizer.fit_transform(X)\n",
    "        self.model.fit(new_X, y)\n",
    "    \n",
    "    def predict(self, X):\n",
    "        new_X = self.vectorizer.transform(X)\n",
    "        return self.model.predict(new_X)    \n",
    "\n",
    "    def get_probabilities(self, X):\n",
    "        if hasattr(self.model, \"predict_proba\"):\n",
    "            new_X = self.vectorizer.transform(X)\n",
    "            return self.model.predict_proba(new_X)\n",
    "        else:\n",
    "            raise ValueError(\"Model doesn't output probabilities!\")\n",
    "    \n",
    "    def get_metrics(self, X, y):\n",
    "        y_hat = self.predict(X)\n",
    "        y_probs = self.get_probabilities(X)\n",
    "        acc = np.mean(y_hat == y)\n",
    "        roc = roc_auc_score(y, y_probs[:, 1])  \n",
    "        f1 = f1_score(y_true=y, y_pred=y_hat)\n",
    "        cf = confusion_matrix(y_true=y, y_pred=y_hat)\n",
    "        classes = ['ham', 'spam']\n",
    "        df = pd.DataFrame(cf, index=classes, columns=classes)\n",
    "        print(\"Metrics for the classification:\\n\")\n",
    "        print(f\"Accuracy: {(acc * 100):.2f}%\")\n",
    "        print(f\"AUC score: {roc:.2f}\")\n",
    "        print(f\"F1 score: {f1:.2f}\")\n",
    "        print(f\"Confusion Matrix: \")\n",
    "        \n",
    "        plt.figure(figsize=(5,4))\n",
    "        sn.heatmap(df, annot=True, fmt=\"d\", cmap=\"Blues\")\n",
    "        plt.xlabel(\"Predicted\")\n",
    "        plt.ylabel(\"Actual\")\n",
    "        plt.title(\"Confusion Matrix\")\n",
    "        plt.show()\n",
    "\n",
    "        return\n",
    "\n",
    "\n",
    "# lemma_tokenizer = LemmaTokenizer() -> Worse Metrics\n",
    "count_tokenizer = CountVectorizer(stop_words='english')\n",
    "model = MultinomialNB()\n",
    "classifier = Model(count_tokenizer, model)"
   ]
  },
  {
   "cell_type": "code",
   "execution_count": 101,
   "id": "835a689c",
   "metadata": {},
   "outputs": [
    {
     "name": "stdout",
     "output_type": "stream",
     "text": [
      "Metrics for the classification:\n",
      "\n",
      "Accuracy: 99.46%\n",
      "AUC score: 1.00\n",
      "F1 score: 0.98\n",
      "Confusion Matrix: \n"
     ]
    },
    {
     "data": {
      "image/png": "[encoded data removed]",
      "text/plain": [
       "<Figure size 500x400 with 2 Axes>"
      ]
     },
     "metadata": {},
     "output_type": "display_data"
    }
   ],
   "source": [
    "classifier.fit(X_train, y_train)\n",
    "classifier.get_metrics(X_train, y_train)"
   ]
  },
  {
   "cell_type": "code",
   "execution_count": 94,
   "id": "005d61d8",
   "metadata": {},
   "outputs": [
    {
     "name": "stdout",
     "output_type": "stream",
     "text": [
      "Metrics for the classification:\n",
      "\n",
      "Accuracy: 98.56%\n",
      "AUC score: 0.99\n",
      "F1 score: 0.95\n",
      "Confusion Matrix: \n"
     ]
    },
    {
     "data": {
      "image/png": "[encoded data removed]",
      "text/plain": [
       "<Figure size 500x400 with 2 Axes>"
      ]
     },
     "metadata": {},
     "output_type": "display_data"
    }
   ],
   "source": [
    "classifier.get_metrics(X_test, y_test)"
   ]
  }
 ],
 "metadata": {
  "kernelspec": {
   "display_name": "my_env",
   "language": "python",
   "name": "python3"
  },
  "language_info": {
   "codemirror_mode": {
    "name": "ipython",
    "version": 3
   },
   "file_extension": ".py",
   "mimetype": "text/x-python",
   "name": "python",
   "nbconvert_exporter": "python",
   "pygments_lexer": "ipython3",
   "version": "3.13.7"
  }
 },
 "nbformat": 4,
 "nbformat_minor": 5
}
