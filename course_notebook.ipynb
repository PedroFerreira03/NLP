{
 "cells": [
  {
   "cell_type": "markdown",
   "id": "070987cd",
   "metadata": {},
   "source": [
    "``Bag of Words`` - Doesn't take into consideration the order of the words in the sentence.\n",
    "\n",
    "``Vector models and ML`` - Take into consideration the order of the words in the sentence."
   ]
  },
  {
   "cell_type": "code",
   "execution_count": null,
   "id": "ac17d79c",
   "metadata": {},
   "outputs": [],
   "source": []
  }
 ],
 "metadata": {
  "kernelspec": {
   "display_name": "my_env",
   "language": "python",
   "name": "python3"
  },
  "language_info": {
   "codemirror_mode": {
    "name": "ipython",
    "version": 3
   },
   "file_extension": ".py",
   "mimetype": "text/x-python",
   "name": "python",
   "nbconvert_exporter": "python",
   "pygments_lexer": "ipython3",
   "version": "3.13.5"
  }
 },
 "nbformat": 4,
 "nbformat_minor": 5
}
